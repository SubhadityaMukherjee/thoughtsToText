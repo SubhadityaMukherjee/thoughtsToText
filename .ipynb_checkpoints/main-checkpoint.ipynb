{
 "cells": [
  {
   "cell_type": "markdown",
   "metadata": {
    "toc": true
   },
   "source": [
    "<h1>Table of Contents<span class=\"tocSkip\"></span></h1>\n",
    "<div class=\"toc\"><ul class=\"toc-item\"><li><span><a href=\"#Moving-data-to-a-subset-classes\" data-toc-modified-id=\"Moving-data-to-a-subset-classes-1\"><span class=\"toc-item-num\">1&nbsp;&nbsp;</span>Moving data to a subset classes</a></span><ul class=\"toc-item\"><li><span><a href=\"#Creating-a-single-dataframe-for-all-classes-of--AF3\" data-toc-modified-id=\"Creating-a-single-dataframe-for-all-classes-of--AF3-1.1\"><span class=\"toc-item-num\">1.1&nbsp;&nbsp;</span>Creating a single dataframe for all classes of  AF3</a></span></li><li><span><a href=\"#Read-CSV-directly\" data-toc-modified-id=\"Read-CSV-directly-1.2\"><span class=\"toc-item-num\">1.2&nbsp;&nbsp;</span>Read CSV directly</a></span></li><li><span><a href=\"#Pre-processing\" data-toc-modified-id=\"Pre-processing-1.3\"><span class=\"toc-item-num\">1.3&nbsp;&nbsp;</span>Pre processing</a></span></li></ul></li><li><span><a href=\"#Models---test\" data-toc-modified-id=\"Models---test-2\"><span class=\"toc-item-num\">2&nbsp;&nbsp;</span>Models - test</a></span></li><li><span><a href=\"#Plot\" data-toc-modified-id=\"Plot-3\"><span class=\"toc-item-num\">3&nbsp;&nbsp;</span>Plot</a></span><ul class=\"toc-item\"><li><span><a href=\"#Saving-plots\" data-toc-modified-id=\"Saving-plots-3.1\"><span class=\"toc-item-num\">3.1&nbsp;&nbsp;</span>Saving plots</a></span></li></ul></li><li><span><a href=\"#RUN-FROM-HERE\" data-toc-modified-id=\"RUN-FROM-HERE-4\"><span class=\"toc-item-num\">4&nbsp;&nbsp;</span>RUN FROM HERE</a></span><ul class=\"toc-item\"><li><span><a href=\"#Columnar-data\" data-toc-modified-id=\"Columnar-data-4.1\"><span class=\"toc-item-num\">4.1&nbsp;&nbsp;</span>Columnar data</a></span></li></ul></li></ul></div>"
   ]
  },
  {
   "cell_type": "code",
   "execution_count": 29,
   "metadata": {},
   "outputs": [],
   "source": [
    "import os\n",
    "import shutil\n",
    "import pandas as pd"
   ]
  },
  {
   "cell_type": "markdown",
   "metadata": {},
   "source": [
    "# Moving data to a subset classes\n",
    "\n",
    "- Zebra: n02391049\n",
    "- Football: n04254680\n",
    "- Strawberry: n07745940\n",
    "- Ambulance: n02701002 \n",
    "- Orange: n07747607\n",
    "- Kite: n01608432\n",
    "- Flamingo: n02007558\n",
    "- Stethescope: n04317175\n",
    "- Toaster: n04442312\n",
    "- Mushroom: n07734744"
   ]
  },
  {
   "cell_type": "code",
   "execution_count": 2,
   "metadata": {},
   "outputs": [],
   "source": [
    "path1 = 'data/MindBigData-Imagenet'\n",
    "path2 = 'data/subset'"
   ]
  },
  {
   "cell_type": "code",
   "execution_count": 19,
   "metadata": {},
   "outputs": [],
   "source": [
    "def chckRename(x):\n",
    "    dict_t = {\"n02391049\": \"Zebra\",\n",
    "    \"n04254680\": \"Football\",\n",
    "    \"n07745940\": \"Strawberry\",\n",
    "    \"n02701002\": \"Ambulance\", \n",
    "    \"n07747607\": \"Orange\",\n",
    "    \"n01608432\": \"Kite\",\n",
    "    \"n02007558\": \"Flamingo\",\n",
    "    \"n04317175\": \"Stethescope\",\n",
    "    \"n04442312\": \"Toaster\",\n",
    "    \"n07734744\": \"Mushroom\"}\n",
    "    temp = ''\n",
    "    for a in dict_t.keys():\n",
    "        if x.find(a)!=-1:\n",
    "            temp = dict_t[a]\n",
    "            break\n",
    "    if temp!='':\n",
    "        return temp\n",
    "    else:\n",
    "        return 0\n",
    "    \n",
    "            "
   ]
  },
  {
   "cell_type": "code",
   "execution_count": 25,
   "metadata": {},
   "outputs": [
    {
     "data": {
      "text/plain": [
       "'Kite'"
      ]
     },
     "execution_count": 25,
     "metadata": {},
     "output_type": "execute_result"
    }
   ],
   "source": [
    "chckRename(\"MindBigData_Imagenet_Insight_n01608432_10283_1_1653.csv\")"
   ]
  },
  {
   "cell_type": "code",
   "execution_count": 27,
   "metadata": {},
   "outputs": [
    {
     "name": "stdout",
     "output_type": "stream",
     "text": [
      "MindBigData_Imagenet_Insight_n01608432_10283_1_1653.csv\n",
      "MindBigData_Imagenet_Insight_n01608432_11675_1_2037.csv\n",
      "MindBigData_Imagenet_Insight_n01608432_11792_1_2583.csv\n",
      "MindBigData_Imagenet_Insight_n01608432_1190_1_2438.csv\n",
      "MindBigData_Imagenet_Insight_n01608432_13429_1_1044.csv\n",
      "MindBigData_Imagenet_Insight_n01608432_14568_1_1133.csv\n",
      "MindBigData_Imagenet_Insight_n01608432_16447_1_2686.csv\n",
      "MindBigData_Imagenet_Insight_n01608432_16774_1_2690.csv\n",
      "MindBigData_Imagenet_Insight_n01608432_1713_1_2246.csv\n",
      "MindBigData_Imagenet_Insight_n01608432_18082_1_561.csv\n",
      "MindBigData_Imagenet_Insight_n01608432_19809_1_174.csv\n",
      "MindBigData_Imagenet_Insight_n01608432_26662_1_1855.csv\n",
      "MindBigData_Imagenet_Insight_n01608432_2879_1_2701.csv\n",
      "MindBigData_Imagenet_Insight_n01608432_3145_1_206.csv\n",
      "MindBigData_Imagenet_Insight_n01608432_3347_1_419.csv\n",
      "MindBigData_Imagenet_Insight_n01608432_35811_1_898.csv\n",
      "MindBigData_Imagenet_Insight_n01608432_5152_1_2502.csv\n",
      "MindBigData_Imagenet_Insight_n01608432_5808_1_2277.csv\n",
      "MindBigData_Imagenet_Insight_n01608432_6293_1_421.csv\n",
      "MindBigData_Imagenet_Insight_n01608432_6304_1_481.csv\n",
      "MindBigData_Imagenet_Insight_n01608432_6586_1_1568.csv\n",
      "MindBigData_Imagenet_Insight_n01608432_6593_1_1258.csv\n",
      "MindBigData_Imagenet_Insight_n01608432_6607_1_1303.csv\n",
      "MindBigData_Imagenet_Insight_n01608432_838_1_1963.csv\n",
      "MindBigData_Imagenet_Insight_n01608432_8603_1_1572.csv\n",
      "MindBigData_Imagenet_Insight_n01608432_9045_1_1750.csv\n",
      "MindBigData_Imagenet_Insight_n01608432_9114_1_371.csv\n",
      "MindBigData_Imagenet_Insight_n01608432_9233_1_44.csv\n",
      "MindBigData_Imagenet_Insight_n01608432_9972_1_1765.csv\n",
      "MindBigData_Imagenet_Insight_n02007558_10218_1_1709.csv\n",
      "MindBigData_Imagenet_Insight_n02007558_10880_1_440.csv\n",
      "MindBigData_Imagenet_Insight_n02007558_12487_1_1562.csv\n",
      "MindBigData_Imagenet_Insight_n02007558_16920_1_202.csv\n",
      "MindBigData_Imagenet_Insight_n02007558_22462_1_821.csv\n",
      "MindBigData_Imagenet_Insight_n02007558_2721_1_1696.csv\n",
      "MindBigData_Imagenet_Insight_n02007558_3285_1_263.csv\n",
      "MindBigData_Imagenet_Insight_n02007558_4472_1_2470.csv\n",
      "MindBigData_Imagenet_Insight_n02007558_4595_1_575.csv\n",
      "MindBigData_Imagenet_Insight_n02007558_4633_1_6.csv\n",
      "MindBigData_Imagenet_Insight_n02007558_4764_1_2468.csv\n",
      "MindBigData_Imagenet_Insight_n02007558_5077_1_2358.csv\n",
      "MindBigData_Imagenet_Insight_n02007558_6023_1_150.csv\n",
      "MindBigData_Imagenet_Insight_n02007558_6509_1_477.csv\n",
      "MindBigData_Imagenet_Insight_n02007558_6555_1_23.csv\n",
      "MindBigData_Imagenet_Insight_n02007558_6572_1_993.csv\n",
      "MindBigData_Imagenet_Insight_n02007558_6910_1_1237.csv\n",
      "MindBigData_Imagenet_Insight_n02007558_7106_1_608.csv\n",
      "MindBigData_Imagenet_Insight_n02007558_7651_1_928.csv\n",
      "MindBigData_Imagenet_Insight_n02007558_8766_1_1887.csv\n",
      "MindBigData_Imagenet_Insight_n02007558_9166_1_985.csv\n",
      "MindBigData_Imagenet_Insight_n02007558_9755_1_106.csv\n",
      "MindBigData_Imagenet_Insight_n02007558_9801_1_2040.csv\n",
      "MindBigData_Imagenet_Insight_n02007558_998_1_1683.csv\n",
      "MindBigData_Imagenet_Insight_n02391049_10461_1_697.csv\n",
      "MindBigData_Imagenet_Insight_n02391049_10504_1_1696.csv\n",
      "MindBigData_Imagenet_Insight_n02391049_10613_1_972.csv\n",
      "MindBigData_Imagenet_Insight_n02391049_1846_1_1435.csv\n",
      "MindBigData_Imagenet_Insight_n02391049_2225_1_90.csv\n",
      "MindBigData_Imagenet_Insight_n02391049_2363_1_1688.csv\n",
      "MindBigData_Imagenet_Insight_n02391049_2623_1_2633.csv\n",
      "MindBigData_Imagenet_Insight_n02391049_2631_1_106.csv\n",
      "MindBigData_Imagenet_Insight_n02391049_2973_1_210.csv\n",
      "MindBigData_Imagenet_Insight_n02391049_3436_1_1458.csv\n",
      "MindBigData_Imagenet_Insight_n02391049_7416_1_1635.csv\n",
      "MindBigData_Imagenet_Insight_n02391049_809_1_2509.csv\n",
      "MindBigData_Imagenet_Insight_n02391049_8878_1_519.csv\n",
      "MindBigData_Imagenet_Insight_n02391049_9000_1_491.csv\n",
      "MindBigData_Imagenet_Insight_n02391049_9400_1_202.csv\n",
      "MindBigData_Imagenet_Insight_n02391049_9421_1_1936.csv\n",
      "MindBigData_Imagenet_Insight_n02701002_1371_1_2740.csv\n",
      "MindBigData_Imagenet_Insight_n02701002_14861_1_1993.csv\n",
      "MindBigData_Imagenet_Insight_n02701002_1489_1_1866.csv\n",
      "MindBigData_Imagenet_Insight_n02701002_1533_1_1810.csv\n",
      "MindBigData_Imagenet_Insight_n02701002_1802_1_1845.csv\n",
      "MindBigData_Imagenet_Insight_n02701002_1939_1_2451.csv\n",
      "MindBigData_Imagenet_Insight_n02701002_2413_1_736.csv\n",
      "MindBigData_Imagenet_Insight_n02701002_2821_1_1492.csv\n",
      "MindBigData_Imagenet_Insight_n02701002_28430_1_1012.csv\n",
      "MindBigData_Imagenet_Insight_n02701002_3326_1_1377.csv\n",
      "MindBigData_Imagenet_Insight_n02701002_3673_1_2585.csv\n",
      "MindBigData_Imagenet_Insight_n02701002_3776_1_2302.csv\n",
      "MindBigData_Imagenet_Insight_n02701002_4095_1_1385.csv\n",
      "MindBigData_Imagenet_Insight_n02701002_4439_1_2364.csv\n",
      "MindBigData_Imagenet_Insight_n02701002_4956_1_288.csv\n",
      "MindBigData_Imagenet_Insight_n02701002_5690_1_1164.csv\n",
      "MindBigData_Imagenet_Insight_n02701002_6070_1_973.csv\n",
      "MindBigData_Imagenet_Insight_n02701002_6369_1_2641.csv\n",
      "MindBigData_Imagenet_Insight_n02701002_6553_1_1101.csv\n",
      "MindBigData_Imagenet_Insight_n02701002_7065_1_2089.csv\n",
      "MindBigData_Imagenet_Insight_n02701002_728_1_2447.csv\n",
      "MindBigData_Imagenet_Insight_n02701002_8_1_1759.csv\n",
      "MindBigData_Imagenet_Insight_n04254680_1247_1_2029.csv\n",
      "MindBigData_Imagenet_Insight_n04254680_1539_1_770.csv\n",
      "MindBigData_Imagenet_Insight_n04254680_2004_1_2412.csv\n",
      "MindBigData_Imagenet_Insight_n04254680_3434_1_2128.csv\n",
      "MindBigData_Imagenet_Insight_n04254680_3905_1_2053.csv\n",
      "MindBigData_Imagenet_Insight_n04254680_4054_1_1110.csv\n",
      "MindBigData_Imagenet_Insight_n04254680_4440_1_1247.csv\n",
      "MindBigData_Imagenet_Insight_n04254680_4926_1_1767.csv\n",
      "MindBigData_Imagenet_Insight_n04254680_4956_1_266.csv\n",
      "MindBigData_Imagenet_Insight_n04254680_5415_1_1809.csv\n",
      "MindBigData_Imagenet_Insight_n04254680_562_1_1250.csv\n",
      "MindBigData_Imagenet_Insight_n04254680_5637_1_403.csv\n",
      "MindBigData_Imagenet_Insight_n04254680_5904_1_110.csv\n",
      "MindBigData_Imagenet_Insight_n04254680_6684_1_1608.csv\n",
      "MindBigData_Imagenet_Insight_n04254680_7101_1_623.csv\n",
      "MindBigData_Imagenet_Insight_n04254680_715_1_1952.csv\n",
      "MindBigData_Imagenet_Insight_n04254680_7240_1_1396.csv\n",
      "MindBigData_Imagenet_Insight_n04254680_7741_1_2521.csv\n",
      "MindBigData_Imagenet_Insight_n04254680_7822_1_1425.csv\n",
      "MindBigData_Imagenet_Insight_n04254680_8013_1_2238.csv\n",
      "MindBigData_Imagenet_Insight_n04254680_8129_1_1569.csv\n",
      "MindBigData_Imagenet_Insight_n04254680_8253_1_1352.csv\n",
      "MindBigData_Imagenet_Insight_n04254680_8415_1_2113.csv\n",
      "MindBigData_Imagenet_Insight_n04254680_9065_1_903.csv\n",
      "MindBigData_Imagenet_Insight_n04254680_9175_1_1615.csv\n",
      "MindBigData_Imagenet_Insight_n04254680_9478_1_73.csv\n",
      "MindBigData_Imagenet_Insight_n04317175_10060_1_2201.csv\n",
      "MindBigData_Imagenet_Insight_n04317175_10943_1_1690.csv\n",
      "MindBigData_Imagenet_Insight_n04317175_12100_1_1039.csv\n",
      "MindBigData_Imagenet_Insight_n04317175_14066_1_2234.csv\n",
      "MindBigData_Imagenet_Insight_n04317175_1429_1_1064.csv\n",
      "MindBigData_Imagenet_Insight_n04317175_1603_1_437.csv\n",
      "MindBigData_Imagenet_Insight_n04317175_2825_1_894.csv\n",
      "MindBigData_Imagenet_Insight_n04317175_2973_1_2431.csv\n",
      "MindBigData_Imagenet_Insight_n04317175_3122_1_1754.csv\n",
      "MindBigData_Imagenet_Insight_n04317175_3150_1_1626.csv\n",
      "MindBigData_Imagenet_Insight_n04317175_3653_1_675.csv\n",
      "MindBigData_Imagenet_Insight_n04317175_4076_1_1456.csv\n",
      "MindBigData_Imagenet_Insight_n04317175_4141_1_1382.csv\n",
      "MindBigData_Imagenet_Insight_n04317175_5488_1_1375.csv\n",
      "MindBigData_Imagenet_Insight_n04317175_6109_1_2497.csv\n",
      "MindBigData_Imagenet_Insight_n04317175_8645_1_463.csv\n",
      "MindBigData_Imagenet_Insight_n04317175_877_1_1583.csv\n",
      "MindBigData_Imagenet_Insight_n04317175_8994_1_550.csv\n",
      "MindBigData_Imagenet_Insight_n04317175_9360_1_1380.csv\n",
      "MindBigData_Imagenet_Insight_n04317175_9704_1_2366.csv\n",
      "MindBigData_Imagenet_Insight_n04442312_10258_1_2589.csv\n",
      "MindBigData_Imagenet_Insight_n04442312_10339_1_1640.csv\n",
      "MindBigData_Imagenet_Insight_n04442312_11136_1_1766.csv\n",
      "MindBigData_Imagenet_Insight_n04442312_11458_1_1295.csv\n",
      "MindBigData_Imagenet_Insight_n04442312_11523_1_1742.csv\n",
      "MindBigData_Imagenet_Insight_n04442312_11965_1_1970.csv\n",
      "MindBigData_Imagenet_Insight_n04442312_14401_1_980.csv\n",
      "MindBigData_Imagenet_Insight_n04442312_14598_1_41.csv\n",
      "MindBigData_Imagenet_Insight_n04442312_15472_1_385.csv\n",
      "MindBigData_Imagenet_Insight_n04442312_15554_1_969.csv\n",
      "MindBigData_Imagenet_Insight_n04442312_16196_1_43.csv\n",
      "MindBigData_Imagenet_Insight_n04442312_16506_1_306.csv\n",
      "MindBigData_Imagenet_Insight_n04442312_19672_1_2417.csv\n",
      "MindBigData_Imagenet_Insight_n04442312_20036_1_1030.csv\n",
      "MindBigData_Imagenet_Insight_n04442312_20332_1_1119.csv\n",
      "MindBigData_Imagenet_Insight_n04442312_20499_1_1757.csv\n",
      "MindBigData_Imagenet_Insight_n04442312_20673_1_2265.csv\n",
      "MindBigData_Imagenet_Insight_n04442312_21403_1_1761.csv\n",
      "MindBigData_Imagenet_Insight_n04442312_22181_1_1430.csv\n",
      "MindBigData_Imagenet_Insight_n04442312_2475_1_771.csv\n",
      "MindBigData_Imagenet_Insight_n04442312_26475_1_1646.csv\n",
      "MindBigData_Imagenet_Insight_n04442312_2846_1_2690.csv\n",
      "MindBigData_Imagenet_Insight_n04442312_355_1_119.csv\n",
      "MindBigData_Imagenet_Insight_n04442312_4192_1_890.csv\n",
      "MindBigData_Imagenet_Insight_n04442312_4807_1_2539.csv\n",
      "MindBigData_Imagenet_Insight_n04442312_7697_1_2273.csv\n",
      "MindBigData_Imagenet_Insight_n04442312_937_1_925.csv\n",
      "MindBigData_Imagenet_Insight_n04442312_9626_1_1719.csv\n",
      "MindBigData_Imagenet_Insight_n07734744_10037_1_345.csv\n",
      "MindBigData_Imagenet_Insight_n07734744_1260_1_2269.csv\n",
      "MindBigData_Imagenet_Insight_n07734744_13671_1_2769.csv\n",
      "MindBigData_Imagenet_Insight_n07734744_14447_1_1983.csv\n",
      "MindBigData_Imagenet_Insight_n07734744_1449_1_2062.csv\n",
      "MindBigData_Imagenet_Insight_n07734744_17211_1_1713.csv\n",
      "MindBigData_Imagenet_Insight_n07734744_17290_1_96.csv\n",
      "MindBigData_Imagenet_Insight_n07734744_1916_1_2050.csv\n",
      "MindBigData_Imagenet_Insight_n07734744_1966_1_269.csv\n",
      "MindBigData_Imagenet_Insight_n07734744_1980_1_2484.csv\n",
      "MindBigData_Imagenet_Insight_n07734744_2491_1_917.csv\n",
      "MindBigData_Imagenet_Insight_n07734744_2693_1_1951.csv\n",
      "MindBigData_Imagenet_Insight_n07734744_2737_1_2496.csv\n",
      "MindBigData_Imagenet_Insight_n07734744_3192_1_2768.csv\n",
      "MindBigData_Imagenet_Insight_n07734744_3768_1_2609.csv\n",
      "MindBigData_Imagenet_Insight_n07734744_3946_1_2591.csv\n",
      "MindBigData_Imagenet_Insight_n07734744_4059_1_2431.csv\n",
      "MindBigData_Imagenet_Insight_n07734744_491_1_2517.csv\n",
      "MindBigData_Imagenet_Insight_n07734744_5639_1_73.csv\n",
      "MindBigData_Imagenet_Insight_n07734744_5707_1_2628.csv\n",
      "MindBigData_Imagenet_Insight_n07734744_5709_1_1199.csv\n",
      "MindBigData_Imagenet_Insight_n07734744_5733_1_2478.csv\n",
      "MindBigData_Imagenet_Insight_n07734744_620_1_851.csv\n",
      "MindBigData_Imagenet_Insight_n07734744_6432_1_1777.csv\n",
      "MindBigData_Imagenet_Insight_n07734744_6714_1_2347.csv\n",
      "MindBigData_Imagenet_Insight_n07734744_6904_1_824.csv\n",
      "MindBigData_Imagenet_Insight_n07734744_7354_1_2039.csv\n",
      "MindBigData_Imagenet_Insight_n07734744_9670_1_1855.csv\n",
      "MindBigData_Imagenet_Insight_n07745940_11210_1_260.csv\n",
      "MindBigData_Imagenet_Insight_n07745940_11228_1_2581.csv\n",
      "MindBigData_Imagenet_Insight_n07745940_1218_1_1394.csv\n",
      "MindBigData_Imagenet_Insight_n07745940_12439_1_1680.csv\n",
      "MindBigData_Imagenet_Insight_n07745940_13018_1_1320.csv\n",
      "MindBigData_Imagenet_Insight_n07745940_13239_1_120.csv\n",
      "MindBigData_Imagenet_Insight_n07745940_13846_1_158.csv\n",
      "MindBigData_Imagenet_Insight_n07745940_13909_1_2257.csv\n",
      "MindBigData_Imagenet_Insight_n07745940_14669_1_1890.csv\n",
      "MindBigData_Imagenet_Insight_n07745940_1922_1_1892.csv\n",
      "MindBigData_Imagenet_Insight_n07745940_20071_1_117.csv\n",
      "MindBigData_Imagenet_Insight_n07745940_2065_1_1393.csv\n",
      "MindBigData_Imagenet_Insight_n07745940_20977_1_2739.csv\n",
      "MindBigData_Imagenet_Insight_n07745940_2392_1_591.csv\n",
      "MindBigData_Imagenet_Insight_n07745940_2759_1_773.csv\n",
      "MindBigData_Imagenet_Insight_n07745940_3161_1_1613.csv\n",
      "MindBigData_Imagenet_Insight_n07745940_482_1_2468.csv\n",
      "MindBigData_Imagenet_Insight_n07745940_5664_1_1596.csv\n",
      "MindBigData_Imagenet_Insight_n07745940_6219_1_129.csv\n",
      "MindBigData_Imagenet_Insight_n07745940_6265_1_1955.csv\n",
      "MindBigData_Imagenet_Insight_n07745940_6457_1_820.csv\n",
      "MindBigData_Imagenet_Insight_n07745940_6511_1_1357.csv\n",
      "MindBigData_Imagenet_Insight_n07745940_6819_1_2730.csv\n",
      "MindBigData_Imagenet_Insight_n07745940_792_1_2536.csv\n",
      "MindBigData_Imagenet_Insight_n07745940_8158_1_102.csv\n",
      "MindBigData_Imagenet_Insight_n07745940_9104_1_383.csv\n"
     ]
    },
    {
     "name": "stdout",
     "output_type": "stream",
     "text": [
      "MindBigData_Imagenet_Insight_n07747607_10552_1_998.csv\n",
      "MindBigData_Imagenet_Insight_n07747607_11082_1_1410.csv\n",
      "MindBigData_Imagenet_Insight_n07747607_11592_1_1596.csv\n",
      "MindBigData_Imagenet_Insight_n07747607_1356_1_1863.csv\n",
      "MindBigData_Imagenet_Insight_n07747607_2119_1_751.csv\n",
      "MindBigData_Imagenet_Insight_n07747607_21269_1_2721.csv\n",
      "MindBigData_Imagenet_Insight_n07747607_3508_1_584.csv\n",
      "MindBigData_Imagenet_Insight_n07747607_3550_1_401.csv\n",
      "MindBigData_Imagenet_Insight_n07747607_40186_1_1376.csv\n",
      "MindBigData_Imagenet_Insight_n07747607_4399_1_1306.csv\n",
      "MindBigData_Imagenet_Insight_n07747607_50869_1_2161.csv\n",
      "MindBigData_Imagenet_Insight_n07747607_53937_1_274.csv\n",
      "MindBigData_Imagenet_Insight_n07747607_55314_1_2688.csv\n",
      "MindBigData_Imagenet_Insight_n07747607_6119_1_1088.csv\n",
      "MindBigData_Imagenet_Insight_n07747607_63779_1_2100.csv\n",
      "MindBigData_Imagenet_Insight_n07747607_64211_1_2168.csv\n",
      "MindBigData_Imagenet_Insight_n07747607_67457_1_407.csv\n",
      "MindBigData_Imagenet_Insight_n07747607_712_1_668.csv\n",
      "MindBigData_Imagenet_Insight_n07747607_9809_1_1526.csv\n"
     ]
    }
   ],
   "source": [
    "counter= 0\n",
    "for a in os.listdir(path1):\n",
    "    if chckRename(a)!=0:\n",
    "        print(a)\n",
    "        shutil.copy(f\"{path1}/{a}\", f\"{path2}/{chckRename(a)}-{counter}.csv\")\n",
    "        counter+=1\n",
    "#         break\n",
    "    else:\n",
    "        pass"
   ]
  },
  {
   "cell_type": "markdown",
   "metadata": {},
   "source": [
    "## Creating a single dataframe for all classes of  AF3"
   ]
  },
  {
   "cell_type": "code",
   "execution_count": 34,
   "metadata": {},
   "outputs": [
    {
     "name": "stdout",
     "output_type": "stream",
     "text": [
      " Volume in drive D is DATA\n",
      " Volume Serial Number is 6CAF-913D\n",
      "\n",
      " Directory of D:\\Github\\thoughtsToText\\data\\subset\n",
      "\n",
      "12/31/2019  05:20 PM    <DIR>          .\n",
      "12/31/2019  05:20 PM    <DIR>          ..\n",
      "12/31/2019  05:20 PM            31,717 Ambulance-69.csv\n",
      "12/31/2019  05:20 PM            32,026 Ambulance-70.csv\n",
      "12/31/2019  05:20 PM            32,580 Ambulance-71.csv\n",
      "12/31/2019  05:20 PM            32,599 Ambulance-72.csv\n",
      "12/31/2019  05:20 PM            31,547 Ambulance-73.csv\n",
      "12/31/2019  05:20 PM            32,337 Ambulance-74.csv\n",
      "12/31/2019  05:20 PM            32,623 Ambulance-75.csv\n",
      "12/31/2019  05:20 PM            31,972 Ambulance-76.csv\n",
      "12/31/2019  05:20 PM            32,001 Ambulance-77.csv\n",
      "12/31/2019  05:20 PM            31,827 Ambulance-78.csv\n",
      "12/31/2019  05:20 PM            32,862 Ambulance-79.csv\n",
      "12/31/2019  05:20 PM            31,896 Ambulance-80.csv\n",
      "12/31/2019  05:20 PM            33,336 Ambulance-81.csv\n",
      "12/31/2019  05:20 PM            31,711 Ambulance-82.csv\n",
      "12/31/2019  05:20 PM            32,283 Ambulance-83.csv\n",
      "12/31/2019  05:20 PM            32,180 Ambulance-84.csv\n",
      "12/31/2019  05:20 PM            32,188 Ambulance-85.csv\n",
      "12/31/2019  05:20 PM            32,202 Ambulance-86.csv\n",
      "12/31/2019  05:20 PM            31,917 Ambulance-87.csv\n",
      "12/31/2019  05:20 PM            32,039 Ambulance-88.csv\n",
      "12/31/2019  05:20 PM            32,631 Ambulance-89.csv\n",
      "12/31/2019  05:20 PM            32,676 Ambulance-90.csv\n",
      "12/31/2019  05:20 PM            33,029 Flamingo-29.csv\n",
      "12/31/2019  05:20 PM            32,296 Flamingo-30.csv\n",
      "12/31/2019  05:20 PM            31,742 Flamingo-31.csv\n",
      "12/31/2019  05:20 PM            31,602 Flamingo-32.csv\n",
      "12/31/2019  05:20 PM            32,531 Flamingo-33.csv\n",
      "12/31/2019  05:20 PM            32,278 Flamingo-34.csv\n",
      "12/31/2019  05:20 PM            31,804 Flamingo-35.csv\n",
      "12/31/2019  05:20 PM            31,498 Flamingo-36.csv\n",
      "12/31/2019  05:20 PM            31,944 Flamingo-37.csv\n",
      "12/31/2019  05:20 PM            31,988 Flamingo-38.csv\n",
      "12/31/2019  05:20 PM            32,271 Flamingo-39.csv\n",
      "12/31/2019  05:20 PM            31,833 Flamingo-40.csv\n",
      "12/31/2019  05:20 PM            31,881 Flamingo-41.csv\n",
      "12/31/2019  05:20 PM            32,168 Flamingo-42.csv\n",
      "12/31/2019  05:20 PM            31,917 Flamingo-43.csv\n",
      "12/31/2019  05:20 PM            31,822 Flamingo-44.csv\n",
      "12/31/2019  05:20 PM            31,608 Flamingo-45.csv\n",
      "12/31/2019  05:20 PM            31,779 Flamingo-46.csv\n",
      "12/31/2019  05:20 PM            32,251 Flamingo-47.csv\n",
      "12/31/2019  05:20 PM            32,182 Flamingo-48.csv\n",
      "12/31/2019  05:20 PM            32,172 Flamingo-49.csv\n",
      "12/31/2019  05:20 PM            31,972 Flamingo-50.csv\n",
      "12/31/2019  05:20 PM            32,473 Flamingo-51.csv\n",
      "12/31/2019  05:20 PM            31,686 Flamingo-52.csv\n",
      "12/31/2019  05:20 PM            32,581 Football-100.csv\n",
      "12/31/2019  05:20 PM            31,918 Football-101.csv\n",
      "12/31/2019  05:20 PM            32,721 Football-102.csv\n",
      "12/31/2019  05:20 PM            31,965 Football-103.csv\n",
      "12/31/2019  05:20 PM            32,735 Football-104.csv\n",
      "12/31/2019  05:20 PM            32,516 Football-105.csv\n",
      "12/31/2019  05:20 PM            32,221 Football-106.csv\n",
      "12/31/2019  05:20 PM            31,834 Football-107.csv\n",
      "12/31/2019  05:20 PM            32,507 Football-108.csv\n",
      "12/31/2019  05:20 PM            33,242 Football-109.csv\n",
      "12/31/2019  05:20 PM            31,202 Football-110.csv\n",
      "12/31/2019  05:20 PM            32,176 Football-111.csv\n",
      "12/31/2019  05:20 PM            31,964 Football-112.csv\n",
      "12/31/2019  05:20 PM            31,980 Football-113.csv\n",
      "12/31/2019  05:20 PM            32,411 Football-114.csv\n",
      "12/31/2019  05:20 PM            32,218 Football-115.csv\n",
      "12/31/2019  05:20 PM            31,896 Football-116.csv\n",
      "12/31/2019  05:20 PM            32,454 Football-91.csv\n",
      "12/31/2019  05:20 PM            32,254 Football-92.csv\n",
      "12/31/2019  05:20 PM            32,997 Football-93.csv\n",
      "12/31/2019  05:20 PM            31,884 Football-94.csv\n",
      "12/31/2019  05:20 PM            32,306 Football-95.csv\n",
      "12/31/2019  05:20 PM            34,260 Football-96.csv\n",
      "12/31/2019  05:20 PM            31,916 Football-97.csv\n",
      "12/31/2019  05:20 PM            31,644 Football-98.csv\n",
      "12/31/2019  05:20 PM            32,234 Football-99.csv\n",
      "12/31/2019  05:20 PM            32,649 Kite-0.csv\n",
      "12/31/2019  05:20 PM            32,026 Kite-1.csv\n",
      "12/31/2019  05:20 PM            31,992 Kite-10.csv\n",
      "12/31/2019  05:20 PM            31,602 Kite-11.csv\n",
      "12/31/2019  05:20 PM            33,247 Kite-12.csv\n",
      "12/31/2019  05:20 PM            31,850 Kite-13.csv\n",
      "12/31/2019  05:20 PM            32,285 Kite-14.csv\n",
      "12/31/2019  05:20 PM            31,876 Kite-15.csv\n",
      "12/31/2019  05:20 PM            32,326 Kite-16.csv\n",
      "12/31/2019  05:20 PM            32,230 Kite-17.csv\n",
      "12/31/2019  05:20 PM            32,297 Kite-18.csv\n",
      "12/31/2019  05:20 PM            32,340 Kite-19.csv\n",
      "12/31/2019  05:20 PM            32,314 Kite-2.csv\n",
      "12/31/2019  05:20 PM            32,278 Kite-20.csv\n",
      "12/31/2019  05:20 PM            31,924 Kite-21.csv\n",
      "12/31/2019  05:20 PM            32,860 Kite-22.csv\n",
      "12/31/2019  05:20 PM            32,333 Kite-23.csv\n",
      "12/31/2019  05:20 PM            31,975 Kite-24.csv\n",
      "12/31/2019  05:20 PM            32,504 Kite-25.csv\n",
      "12/31/2019  05:20 PM            32,113 Kite-26.csv\n",
      "12/31/2019  05:20 PM            32,706 Kite-27.csv\n",
      "12/31/2019  05:20 PM            32,154 Kite-28.csv\n",
      "12/31/2019  05:20 PM            31,956 Kite-3.csv\n",
      "12/31/2019  05:20 PM            31,913 Kite-4.csv\n",
      "12/31/2019  05:20 PM            32,029 Kite-5.csv\n",
      "12/31/2019  05:20 PM            31,892 Kite-6.csv\n",
      "12/31/2019  05:20 PM            32,393 Kite-7.csv\n",
      "12/31/2019  05:20 PM            32,335 Kite-8.csv\n",
      "12/31/2019  05:20 PM            32,346 Kite-9.csv\n",
      "12/31/2019  05:20 PM            32,293 Mushroom-165.csv\n",
      "12/31/2019  05:20 PM            32,014 Mushroom-166.csv\n",
      "12/31/2019  05:20 PM            31,926 Mushroom-167.csv\n",
      "12/31/2019  05:20 PM            31,925 Mushroom-168.csv\n",
      "12/31/2019  05:20 PM            32,456 Mushroom-169.csv\n",
      "12/31/2019  05:20 PM            33,018 Mushroom-170.csv\n",
      "12/31/2019  05:20 PM            32,285 Mushroom-171.csv\n",
      "12/31/2019  05:20 PM            32,117 Mushroom-172.csv\n",
      "12/31/2019  05:20 PM            33,303 Mushroom-173.csv\n",
      "12/31/2019  05:20 PM            31,917 Mushroom-174.csv\n",
      "12/31/2019  05:20 PM            32,134 Mushroom-175.csv\n",
      "12/31/2019  05:20 PM            32,470 Mushroom-176.csv\n",
      "12/31/2019  05:20 PM            32,213 Mushroom-177.csv\n",
      "12/31/2019  05:20 PM            32,661 Mushroom-178.csv\n",
      "12/31/2019  05:20 PM            32,488 Mushroom-179.csv\n",
      "12/31/2019  05:20 PM            32,365 Mushroom-180.csv\n",
      "12/31/2019  05:20 PM            31,891 Mushroom-181.csv\n",
      "12/31/2019  05:20 PM            32,434 Mushroom-182.csv\n",
      "12/31/2019  05:20 PM            33,355 Mushroom-183.csv\n",
      "12/31/2019  05:20 PM            32,634 Mushroom-184.csv\n",
      "12/31/2019  05:20 PM            32,624 Mushroom-185.csv\n",
      "12/31/2019  05:20 PM            32,906 Mushroom-186.csv\n",
      "12/31/2019  05:20 PM            32,211 Mushroom-187.csv\n",
      "12/31/2019  05:20 PM            32,111 Mushroom-188.csv\n",
      "12/31/2019  05:20 PM            32,207 Mushroom-189.csv\n",
      "12/31/2019  05:20 PM            32,167 Mushroom-190.csv\n",
      "12/31/2019  05:20 PM            32,023 Mushroom-191.csv\n",
      "12/31/2019  05:20 PM            32,161 Mushroom-192.csv\n",
      "12/31/2019  05:20 PM            32,268 Orange-219.csv\n",
      "12/31/2019  05:20 PM            32,598 Orange-220.csv\n",
      "12/31/2019  05:20 PM            32,665 Orange-221.csv\n",
      "12/31/2019  05:20 PM            32,322 Orange-222.csv\n",
      "12/31/2019  05:20 PM            32,262 Orange-223.csv\n",
      "12/31/2019  05:20 PM            32,352 Orange-224.csv\n",
      "12/31/2019  05:20 PM            32,511 Orange-225.csv\n",
      "12/31/2019  05:20 PM            32,249 Orange-226.csv\n",
      "12/31/2019  05:20 PM            31,954 Orange-227.csv\n",
      "12/31/2019  05:20 PM            33,928 Orange-228.csv\n",
      "12/31/2019  05:20 PM            32,773 Orange-229.csv\n",
      "12/31/2019  05:20 PM            32,309 Orange-230.csv\n",
      "12/31/2019  05:20 PM            32,277 Orange-231.csv\n",
      "12/31/2019  05:20 PM            32,075 Orange-232.csv\n",
      "12/31/2019  05:20 PM            31,934 Orange-233.csv\n",
      "12/31/2019  05:20 PM            32,488 Orange-234.csv\n",
      "12/31/2019  05:20 PM            31,845 Orange-235.csv\n",
      "12/31/2019  05:20 PM            31,916 Orange-236.csv\n",
      "12/31/2019  05:20 PM            32,331 Orange-237.csv\n",
      "12/31/2019  05:20 PM            32,241 Stethescope-117.csv\n",
      "12/31/2019  05:20 PM            31,796 Stethescope-118.csv\n",
      "12/31/2019  05:20 PM            32,063 Stethescope-119.csv\n",
      "12/31/2019  05:20 PM            32,382 Stethescope-120.csv\n",
      "12/31/2019  05:20 PM            32,216 Stethescope-121.csv\n",
      "12/31/2019  05:20 PM            32,268 Stethescope-122.csv\n",
      "12/31/2019  05:20 PM            31,945 Stethescope-123.csv\n",
      "12/31/2019  05:20 PM            31,591 Stethescope-124.csv\n",
      "12/31/2019  05:20 PM            32,920 Stethescope-125.csv\n",
      "12/31/2019  05:20 PM            32,898 Stethescope-126.csv\n",
      "12/31/2019  05:20 PM            31,930 Stethescope-127.csv\n",
      "12/31/2019  05:20 PM            32,354 Stethescope-128.csv\n",
      "12/31/2019  05:20 PM            34,138 Stethescope-129.csv\n",
      "12/31/2019  05:20 PM            32,612 Stethescope-130.csv\n",
      "12/31/2019  05:20 PM            32,705 Stethescope-131.csv\n",
      "12/31/2019  05:20 PM            32,366 Stethescope-132.csv\n",
      "12/31/2019  05:20 PM            31,566 Stethescope-133.csv\n",
      "12/31/2019  05:20 PM            32,454 Stethescope-134.csv\n",
      "12/31/2019  05:20 PM            31,908 Stethescope-135.csv\n",
      "12/31/2019  05:20 PM            31,804 Stethescope-136.csv\n",
      "12/31/2019  05:20 PM            31,957 Strawberry-193.csv\n",
      "12/31/2019  05:20 PM            32,176 Strawberry-194.csv\n",
      "12/31/2019  05:20 PM            32,320 Strawberry-195.csv\n",
      "12/31/2019  05:20 PM            31,966 Strawberry-196.csv\n",
      "12/31/2019  05:20 PM            32,898 Strawberry-197.csv\n",
      "12/31/2019  05:20 PM            31,828 Strawberry-198.csv\n",
      "12/31/2019  05:20 PM            32,657 Strawberry-199.csv\n",
      "12/31/2019  05:20 PM            32,907 Strawberry-200.csv\n",
      "12/31/2019  05:20 PM            32,077 Strawberry-201.csv\n",
      "12/31/2019  05:20 PM            32,335 Strawberry-202.csv\n",
      "12/31/2019  05:20 PM            32,301 Strawberry-203.csv\n",
      "12/31/2019  05:20 PM            32,538 Strawberry-204.csv\n",
      "12/31/2019  05:20 PM            32,308 Strawberry-205.csv\n",
      "12/31/2019  05:20 PM            32,616 Strawberry-206.csv\n",
      "12/31/2019  05:20 PM            31,968 Strawberry-207.csv\n",
      "12/31/2019  05:20 PM            32,599 Strawberry-208.csv\n",
      "12/31/2019  05:20 PM            32,601 Strawberry-209.csv\n",
      "12/31/2019  05:20 PM            32,896 Strawberry-210.csv\n",
      "12/31/2019  05:20 PM            31,640 Strawberry-211.csv\n",
      "12/31/2019  05:20 PM            32,137 Strawberry-212.csv\n",
      "12/31/2019  05:20 PM            32,176 Strawberry-213.csv\n",
      "12/31/2019  05:20 PM            31,991 Strawberry-214.csv\n",
      "12/31/2019  05:20 PM            32,249 Strawberry-215.csv\n",
      "12/31/2019  05:20 PM            32,854 Strawberry-216.csv\n",
      "12/31/2019  05:20 PM            32,607 Strawberry-217.csv\n",
      "12/31/2019  05:20 PM            32,160 Strawberry-218.csv\n",
      "12/31/2019  05:20 PM            33,008 Toaster-137.csv\n",
      "12/31/2019  05:20 PM            32,329 Toaster-138.csv\n",
      "12/31/2019  05:20 PM            31,789 Toaster-139.csv\n",
      "12/31/2019  05:20 PM            33,415 Toaster-140.csv\n",
      "12/31/2019  05:20 PM            32,566 Toaster-141.csv\n",
      "12/31/2019  05:20 PM            32,324 Toaster-142.csv\n",
      "12/31/2019  05:20 PM            31,906 Toaster-143.csv\n",
      "12/31/2019  05:20 PM            32,168 Toaster-144.csv\n",
      "12/31/2019  05:20 PM            32,197 Toaster-145.csv\n",
      "12/31/2019  05:20 PM            31,869 Toaster-146.csv\n",
      "12/31/2019  05:20 PM            32,220 Toaster-147.csv\n",
      "12/31/2019  05:20 PM            32,301 Toaster-148.csv\n",
      "12/31/2019  05:20 PM            32,233 Toaster-149.csv\n",
      "12/31/2019  05:20 PM            31,964 Toaster-150.csv\n",
      "12/31/2019  05:20 PM            32,504 Toaster-151.csv\n",
      "12/31/2019  05:20 PM            32,282 Toaster-152.csv\n",
      "12/31/2019  05:20 PM            32,262 Toaster-153.csv\n",
      "12/31/2019  05:20 PM            31,974 Toaster-154.csv\n",
      "12/31/2019  05:20 PM            32,207 Toaster-155.csv\n",
      "12/31/2019  05:20 PM            31,893 Toaster-156.csv\n",
      "12/31/2019  05:20 PM            33,164 Toaster-157.csv\n",
      "12/31/2019  05:20 PM            32,729 Toaster-158.csv\n",
      "12/31/2019  05:20 PM            32,152 Toaster-159.csv\n",
      "12/31/2019  05:20 PM            32,444 Toaster-160.csv\n",
      "12/31/2019  05:20 PM            32,593 Toaster-161.csv\n",
      "12/31/2019  05:20 PM            31,808 Toaster-162.csv\n",
      "12/31/2019  05:20 PM            32,342 Toaster-163.csv\n",
      "12/31/2019  05:20 PM            31,587 Toaster-164.csv\n",
      "12/31/2019  05:20 PM            31,943 Zebra-53.csv\n",
      "12/31/2019  05:20 PM            32,580 Zebra-54.csv\n",
      "12/31/2019  05:20 PM            31,918 Zebra-55.csv\n",
      "12/31/2019  05:20 PM            32,534 Zebra-56.csv\n",
      "12/31/2019  05:20 PM            32,210 Zebra-57.csv\n",
      "12/31/2019  05:20 PM            31,777 Zebra-58.csv\n",
      "12/31/2019  05:20 PM            32,426 Zebra-59.csv\n",
      "12/31/2019  05:20 PM            31,975 Zebra-60.csv\n",
      "12/31/2019  05:20 PM            32,176 Zebra-61.csv\n",
      "12/31/2019  05:20 PM            31,665 Zebra-62.csv\n",
      "12/31/2019  05:20 PM            32,263 Zebra-63.csv\n",
      "12/31/2019  05:20 PM            32,107 Zebra-64.csv\n",
      "12/31/2019  05:20 PM            32,553 Zebra-65.csv\n",
      "12/31/2019  05:20 PM            31,581 Zebra-66.csv\n",
      "12/31/2019  05:20 PM            32,691 Zebra-67.csv\n",
      "12/31/2019  05:20 PM            32,620 Zebra-68.csv\n",
      "             238 File(s)      7,680,192 bytes\n",
      "               2 Dir(s)  972,501,102,592 bytes free\n"
     ]
    }
   ],
   "source": [
    "!dir \"data/subset\" "
   ]
  },
  {
   "cell_type": "code",
   "execution_count": 72,
   "metadata": {},
   "outputs": [],
   "source": [
    "data = pd.DataFrame([])"
   ]
  },
  {
   "cell_type": "code",
   "execution_count": 73,
   "metadata": {
    "scrolled": true
   },
   "outputs": [],
   "source": [
    "for a in os.listdir(path2):\n",
    "    temp = pd.read_csv(f\"{path2}/{a}\",header = None)\n",
    "    name = a.split('-')[0]\n",
    "    temp = temp[temp[0]=='AF3']\n",
    "    temp.insert(0, \"0\",name)\n",
    "#     print(temp)\n",
    "    data = data.append(temp)\n",
    "#     break"
   ]
  },
  {
   "cell_type": "code",
   "execution_count": 75,
   "metadata": {},
   "outputs": [
    {
     "data": {
      "text/html": [
       "<div>\n",
       "<style scoped>\n",
       "    .dataframe tbody tr th:only-of-type {\n",
       "        vertical-align: middle;\n",
       "    }\n",
       "\n",
       "    .dataframe tbody tr th {\n",
       "        vertical-align: top;\n",
       "    }\n",
       "\n",
       "    .dataframe thead th {\n",
       "        text-align: right;\n",
       "    }\n",
       "</style>\n",
       "<table border=\"1\" class=\"dataframe\">\n",
       "  <thead>\n",
       "    <tr style=\"text-align: right;\">\n",
       "      <th></th>\n",
       "      <th>0</th>\n",
       "      <th>0</th>\n",
       "      <th>1</th>\n",
       "      <th>2</th>\n",
       "      <th>3</th>\n",
       "      <th>4</th>\n",
       "      <th>5</th>\n",
       "      <th>6</th>\n",
       "      <th>7</th>\n",
       "      <th>8</th>\n",
       "      <th>...</th>\n",
       "      <th>403</th>\n",
       "      <th>404</th>\n",
       "      <th>405</th>\n",
       "      <th>406</th>\n",
       "      <th>407</th>\n",
       "      <th>408</th>\n",
       "      <th>409</th>\n",
       "      <th>410</th>\n",
       "      <th>411</th>\n",
       "      <th>412</th>\n",
       "    </tr>\n",
       "  </thead>\n",
       "  <tbody>\n",
       "    <tr>\n",
       "      <td>0</td>\n",
       "      <td>Zebra</td>\n",
       "      <td>AF3</td>\n",
       "      <td>4274.871795</td>\n",
       "      <td>4282.564103</td>\n",
       "      <td>4271.794872</td>\n",
       "      <td>4253.333333</td>\n",
       "      <td>4260.512821</td>\n",
       "      <td>4275.897436</td>\n",
       "      <td>4258.461538</td>\n",
       "      <td>4245.641026</td>\n",
       "      <td>...</td>\n",
       "      <td>NaN</td>\n",
       "      <td>NaN</td>\n",
       "      <td>NaN</td>\n",
       "      <td>NaN</td>\n",
       "      <td>NaN</td>\n",
       "      <td>NaN</td>\n",
       "      <td>NaN</td>\n",
       "      <td>NaN</td>\n",
       "      <td>NaN</td>\n",
       "      <td>NaN</td>\n",
       "    </tr>\n",
       "    <tr>\n",
       "      <td>0</td>\n",
       "      <td>Zebra</td>\n",
       "      <td>AF3</td>\n",
       "      <td>4325.641026</td>\n",
       "      <td>4295.384615</td>\n",
       "      <td>4289.743590</td>\n",
       "      <td>4315.897436</td>\n",
       "      <td>4337.948718</td>\n",
       "      <td>4326.153846</td>\n",
       "      <td>4287.692308</td>\n",
       "      <td>4275.897436</td>\n",
       "      <td>...</td>\n",
       "      <td>NaN</td>\n",
       "      <td>NaN</td>\n",
       "      <td>NaN</td>\n",
       "      <td>NaN</td>\n",
       "      <td>NaN</td>\n",
       "      <td>NaN</td>\n",
       "      <td>NaN</td>\n",
       "      <td>NaN</td>\n",
       "      <td>NaN</td>\n",
       "      <td>NaN</td>\n",
       "    </tr>\n",
       "    <tr>\n",
       "      <td>0</td>\n",
       "      <td>Zebra</td>\n",
       "      <td>AF3</td>\n",
       "      <td>4265.641026</td>\n",
       "      <td>4283.076923</td>\n",
       "      <td>4281.025641</td>\n",
       "      <td>4273.846154</td>\n",
       "      <td>4292.307692</td>\n",
       "      <td>4302.564103</td>\n",
       "      <td>4286.666667</td>\n",
       "      <td>4260.000000</td>\n",
       "      <td>...</td>\n",
       "      <td>NaN</td>\n",
       "      <td>NaN</td>\n",
       "      <td>NaN</td>\n",
       "      <td>NaN</td>\n",
       "      <td>NaN</td>\n",
       "      <td>NaN</td>\n",
       "      <td>NaN</td>\n",
       "      <td>NaN</td>\n",
       "      <td>NaN</td>\n",
       "      <td>NaN</td>\n",
       "    </tr>\n",
       "    <tr>\n",
       "      <td>0</td>\n",
       "      <td>Zebra</td>\n",
       "      <td>AF3</td>\n",
       "      <td>4293.333333</td>\n",
       "      <td>4301.538462</td>\n",
       "      <td>4284.615385</td>\n",
       "      <td>4278.461538</td>\n",
       "      <td>4296.410256</td>\n",
       "      <td>4299.487179</td>\n",
       "      <td>4283.589744</td>\n",
       "      <td>4276.923077</td>\n",
       "      <td>...</td>\n",
       "      <td>NaN</td>\n",
       "      <td>NaN</td>\n",
       "      <td>NaN</td>\n",
       "      <td>NaN</td>\n",
       "      <td>NaN</td>\n",
       "      <td>NaN</td>\n",
       "      <td>NaN</td>\n",
       "      <td>NaN</td>\n",
       "      <td>NaN</td>\n",
       "      <td>NaN</td>\n",
       "    </tr>\n",
       "    <tr>\n",
       "      <td>0</td>\n",
       "      <td>Zebra</td>\n",
       "      <td>AF3</td>\n",
       "      <td>4276.923077</td>\n",
       "      <td>4274.358974</td>\n",
       "      <td>4286.153846</td>\n",
       "      <td>4289.230769</td>\n",
       "      <td>4278.461538</td>\n",
       "      <td>4275.897436</td>\n",
       "      <td>4281.025641</td>\n",
       "      <td>4285.128205</td>\n",
       "      <td>...</td>\n",
       "      <td>NaN</td>\n",
       "      <td>NaN</td>\n",
       "      <td>NaN</td>\n",
       "      <td>NaN</td>\n",
       "      <td>NaN</td>\n",
       "      <td>NaN</td>\n",
       "      <td>NaN</td>\n",
       "      <td>NaN</td>\n",
       "      <td>NaN</td>\n",
       "      <td>NaN</td>\n",
       "    </tr>\n",
       "  </tbody>\n",
       "</table>\n",
       "<p>5 rows × 414 columns</p>\n",
       "</div>"
      ],
      "text/plain": [
       "       0    0            1            2            3            4  \\\n",
       "0  Zebra  AF3  4274.871795  4282.564103  4271.794872  4253.333333   \n",
       "0  Zebra  AF3  4325.641026  4295.384615  4289.743590  4315.897436   \n",
       "0  Zebra  AF3  4265.641026  4283.076923  4281.025641  4273.846154   \n",
       "0  Zebra  AF3  4293.333333  4301.538462  4284.615385  4278.461538   \n",
       "0  Zebra  AF3  4276.923077  4274.358974  4286.153846  4289.230769   \n",
       "\n",
       "             5            6            7            8  ...  403  404  405  \\\n",
       "0  4260.512821  4275.897436  4258.461538  4245.641026  ...  NaN  NaN  NaN   \n",
       "0  4337.948718  4326.153846  4287.692308  4275.897436  ...  NaN  NaN  NaN   \n",
       "0  4292.307692  4302.564103  4286.666667  4260.000000  ...  NaN  NaN  NaN   \n",
       "0  4296.410256  4299.487179  4283.589744  4276.923077  ...  NaN  NaN  NaN   \n",
       "0  4278.461538  4275.897436  4281.025641  4285.128205  ...  NaN  NaN  NaN   \n",
       "\n",
       "   406  407  408  409  410  411  412  \n",
       "0  NaN  NaN  NaN  NaN  NaN  NaN  NaN  \n",
       "0  NaN  NaN  NaN  NaN  NaN  NaN  NaN  \n",
       "0  NaN  NaN  NaN  NaN  NaN  NaN  NaN  \n",
       "0  NaN  NaN  NaN  NaN  NaN  NaN  NaN  \n",
       "0  NaN  NaN  NaN  NaN  NaN  NaN  NaN  \n",
       "\n",
       "[5 rows x 414 columns]"
      ]
     },
     "execution_count": 75,
     "metadata": {},
     "output_type": "execute_result"
    }
   ],
   "source": [
    "data.tail()"
   ]
  },
  {
   "cell_type": "code",
   "execution_count": 78,
   "metadata": {},
   "outputs": [],
   "source": [
    "data = data.fillna(0)"
   ]
  },
  {
   "cell_type": "code",
   "execution_count": 81,
   "metadata": {},
   "outputs": [],
   "source": [
    "data.to_csv(\"data/subset_csv.csv\")"
   ]
  },
  {
   "cell_type": "markdown",
   "metadata": {},
   "source": [
    "## Read CSV directly"
   ]
  },
  {
   "cell_type": "code",
   "execution_count": 199,
   "metadata": {
    "ExecuteTime": {
     "end_time": "2020-01-01T08:14:18.844853Z",
     "start_time": "2020-01-01T08:14:18.840864Z"
    }
   },
   "outputs": [],
   "source": [
    "import os\n",
    "import shutil \n",
    "import pandas as pd"
   ]
  },
  {
   "cell_type": "code",
   "execution_count": 280,
   "metadata": {
    "ExecuteTime": {
     "end_time": "2020-01-01T09:03:44.525411Z",
     "start_time": "2020-01-01T09:03:44.476540Z"
    }
   },
   "outputs": [],
   "source": [
    "data = pd.read_csv(\"data/subset_csv.csv\",header = 0)\n",
    "data=data.drop(['Unnamed: 0'],axis =1)"
   ]
  },
  {
   "cell_type": "code",
   "execution_count": 281,
   "metadata": {
    "ExecuteTime": {
     "end_time": "2020-01-01T09:03:45.157464Z",
     "start_time": "2020-01-01T09:03:45.140486Z"
    }
   },
   "outputs": [
    {
     "data": {
      "text/html": [
       "<div>\n",
       "<style scoped>\n",
       "    .dataframe tbody tr th:only-of-type {\n",
       "        vertical-align: middle;\n",
       "    }\n",
       "\n",
       "    .dataframe tbody tr th {\n",
       "        vertical-align: top;\n",
       "    }\n",
       "\n",
       "    .dataframe thead th {\n",
       "        text-align: right;\n",
       "    }\n",
       "</style>\n",
       "<table border=\"1\" class=\"dataframe\">\n",
       "  <thead>\n",
       "    <tr style=\"text-align: right;\">\n",
       "      <th></th>\n",
       "      <th>0</th>\n",
       "      <th>0.1</th>\n",
       "      <th>1</th>\n",
       "      <th>2</th>\n",
       "      <th>3</th>\n",
       "      <th>4</th>\n",
       "      <th>5</th>\n",
       "      <th>6</th>\n",
       "      <th>7</th>\n",
       "      <th>8</th>\n",
       "      <th>...</th>\n",
       "      <th>403</th>\n",
       "      <th>404</th>\n",
       "      <th>405</th>\n",
       "      <th>406</th>\n",
       "      <th>407</th>\n",
       "      <th>408</th>\n",
       "      <th>409</th>\n",
       "      <th>410</th>\n",
       "      <th>411</th>\n",
       "      <th>412</th>\n",
       "    </tr>\n",
       "  </thead>\n",
       "  <tbody>\n",
       "    <tr>\n",
       "      <td>0</td>\n",
       "      <td>Ambulance</td>\n",
       "      <td>AF3</td>\n",
       "      <td>4294.871795</td>\n",
       "      <td>4291.794872</td>\n",
       "      <td>4294.358974</td>\n",
       "      <td>4298.461538</td>\n",
       "      <td>4292.820513</td>\n",
       "      <td>4278.974359</td>\n",
       "      <td>4276.410256</td>\n",
       "      <td>4288.205128</td>\n",
       "      <td>...</td>\n",
       "      <td>0.0</td>\n",
       "      <td>0.0</td>\n",
       "      <td>0.0</td>\n",
       "      <td>0.0</td>\n",
       "      <td>0.0</td>\n",
       "      <td>0.0</td>\n",
       "      <td>0.0</td>\n",
       "      <td>0.0</td>\n",
       "      <td>0.0</td>\n",
       "      <td>0.0</td>\n",
       "    </tr>\n",
       "    <tr>\n",
       "      <td>1</td>\n",
       "      <td>Ambulance</td>\n",
       "      <td>AF3</td>\n",
       "      <td>4272.307692</td>\n",
       "      <td>4274.871795</td>\n",
       "      <td>4266.153846</td>\n",
       "      <td>4262.051282</td>\n",
       "      <td>4254.358974</td>\n",
       "      <td>4251.282051</td>\n",
       "      <td>4264.102564</td>\n",
       "      <td>4250.769231</td>\n",
       "      <td>...</td>\n",
       "      <td>0.0</td>\n",
       "      <td>0.0</td>\n",
       "      <td>0.0</td>\n",
       "      <td>0.0</td>\n",
       "      <td>0.0</td>\n",
       "      <td>0.0</td>\n",
       "      <td>0.0</td>\n",
       "      <td>0.0</td>\n",
       "      <td>0.0</td>\n",
       "      <td>0.0</td>\n",
       "    </tr>\n",
       "    <tr>\n",
       "      <td>2</td>\n",
       "      <td>Ambulance</td>\n",
       "      <td>AF3</td>\n",
       "      <td>4209.230769</td>\n",
       "      <td>4217.435897</td>\n",
       "      <td>4197.435897</td>\n",
       "      <td>4180.000000</td>\n",
       "      <td>4194.871795</td>\n",
       "      <td>4205.641026</td>\n",
       "      <td>4197.435897</td>\n",
       "      <td>4201.025641</td>\n",
       "      <td>...</td>\n",
       "      <td>0.0</td>\n",
       "      <td>0.0</td>\n",
       "      <td>0.0</td>\n",
       "      <td>0.0</td>\n",
       "      <td>0.0</td>\n",
       "      <td>0.0</td>\n",
       "      <td>0.0</td>\n",
       "      <td>0.0</td>\n",
       "      <td>0.0</td>\n",
       "      <td>0.0</td>\n",
       "    </tr>\n",
       "    <tr>\n",
       "      <td>3</td>\n",
       "      <td>Ambulance</td>\n",
       "      <td>AF3</td>\n",
       "      <td>4287.692308</td>\n",
       "      <td>4294.358974</td>\n",
       "      <td>4312.820513</td>\n",
       "      <td>4309.743590</td>\n",
       "      <td>4288.717949</td>\n",
       "      <td>4295.384615</td>\n",
       "      <td>4313.846154</td>\n",
       "      <td>4301.538462</td>\n",
       "      <td>...</td>\n",
       "      <td>0.0</td>\n",
       "      <td>0.0</td>\n",
       "      <td>0.0</td>\n",
       "      <td>0.0</td>\n",
       "      <td>0.0</td>\n",
       "      <td>0.0</td>\n",
       "      <td>0.0</td>\n",
       "      <td>0.0</td>\n",
       "      <td>0.0</td>\n",
       "      <td>0.0</td>\n",
       "    </tr>\n",
       "    <tr>\n",
       "      <td>4</td>\n",
       "      <td>Ambulance</td>\n",
       "      <td>AF3</td>\n",
       "      <td>4324.102564</td>\n",
       "      <td>4311.794872</td>\n",
       "      <td>4287.692308</td>\n",
       "      <td>4289.230769</td>\n",
       "      <td>4304.615385</td>\n",
       "      <td>4295.897436</td>\n",
       "      <td>4290.769231</td>\n",
       "      <td>4322.564103</td>\n",
       "      <td>...</td>\n",
       "      <td>0.0</td>\n",
       "      <td>0.0</td>\n",
       "      <td>0.0</td>\n",
       "      <td>0.0</td>\n",
       "      <td>0.0</td>\n",
       "      <td>0.0</td>\n",
       "      <td>0.0</td>\n",
       "      <td>0.0</td>\n",
       "      <td>0.0</td>\n",
       "      <td>0.0</td>\n",
       "    </tr>\n",
       "  </tbody>\n",
       "</table>\n",
       "<p>5 rows × 414 columns</p>\n",
       "</div>"
      ],
      "text/plain": [
       "           0  0.1            1            2            3            4  \\\n",
       "0  Ambulance  AF3  4294.871795  4291.794872  4294.358974  4298.461538   \n",
       "1  Ambulance  AF3  4272.307692  4274.871795  4266.153846  4262.051282   \n",
       "2  Ambulance  AF3  4209.230769  4217.435897  4197.435897  4180.000000   \n",
       "3  Ambulance  AF3  4287.692308  4294.358974  4312.820513  4309.743590   \n",
       "4  Ambulance  AF3  4324.102564  4311.794872  4287.692308  4289.230769   \n",
       "\n",
       "             5            6            7            8  ...  403  404  405  \\\n",
       "0  4292.820513  4278.974359  4276.410256  4288.205128  ...  0.0  0.0  0.0   \n",
       "1  4254.358974  4251.282051  4264.102564  4250.769231  ...  0.0  0.0  0.0   \n",
       "2  4194.871795  4205.641026  4197.435897  4201.025641  ...  0.0  0.0  0.0   \n",
       "3  4288.717949  4295.384615  4313.846154  4301.538462  ...  0.0  0.0  0.0   \n",
       "4  4304.615385  4295.897436  4290.769231  4322.564103  ...  0.0  0.0  0.0   \n",
       "\n",
       "   406  407  408  409  410  411  412  \n",
       "0  0.0  0.0  0.0  0.0  0.0  0.0  0.0  \n",
       "1  0.0  0.0  0.0  0.0  0.0  0.0  0.0  \n",
       "2  0.0  0.0  0.0  0.0  0.0  0.0  0.0  \n",
       "3  0.0  0.0  0.0  0.0  0.0  0.0  0.0  \n",
       "4  0.0  0.0  0.0  0.0  0.0  0.0  0.0  \n",
       "\n",
       "[5 rows x 414 columns]"
      ]
     },
     "execution_count": 281,
     "metadata": {},
     "output_type": "execute_result"
    }
   ],
   "source": [
    "data.head()"
   ]
  },
  {
   "cell_type": "code",
   "execution_count": 282,
   "metadata": {
    "ExecuteTime": {
     "end_time": "2020-01-01T09:03:45.867709Z",
     "start_time": "2020-01-01T09:03:45.850754Z"
    },
    "run_control": {
     "marked": false
    }
   },
   "outputs": [
    {
     "data": {
      "text/html": [
       "<div>\n",
       "<style scoped>\n",
       "    .dataframe tbody tr th:only-of-type {\n",
       "        vertical-align: middle;\n",
       "    }\n",
       "\n",
       "    .dataframe tbody tr th {\n",
       "        vertical-align: top;\n",
       "    }\n",
       "\n",
       "    .dataframe thead th {\n",
       "        text-align: right;\n",
       "    }\n",
       "</style>\n",
       "<table border=\"1\" class=\"dataframe\">\n",
       "  <thead>\n",
       "    <tr style=\"text-align: right;\">\n",
       "      <th></th>\n",
       "      <th>0</th>\n",
       "      <th>0.1</th>\n",
       "      <th>1</th>\n",
       "      <th>2</th>\n",
       "      <th>3</th>\n",
       "      <th>4</th>\n",
       "      <th>5</th>\n",
       "      <th>6</th>\n",
       "      <th>7</th>\n",
       "      <th>8</th>\n",
       "      <th>...</th>\n",
       "      <th>403</th>\n",
       "      <th>404</th>\n",
       "      <th>405</th>\n",
       "      <th>406</th>\n",
       "      <th>407</th>\n",
       "      <th>408</th>\n",
       "      <th>409</th>\n",
       "      <th>410</th>\n",
       "      <th>411</th>\n",
       "      <th>412</th>\n",
       "    </tr>\n",
       "  </thead>\n",
       "  <tbody>\n",
       "    <tr>\n",
       "      <td>233</td>\n",
       "      <td>Zebra</td>\n",
       "      <td>AF3</td>\n",
       "      <td>4274.871795</td>\n",
       "      <td>4282.564103</td>\n",
       "      <td>4271.794872</td>\n",
       "      <td>4253.333333</td>\n",
       "      <td>4260.512821</td>\n",
       "      <td>4275.897436</td>\n",
       "      <td>4258.461538</td>\n",
       "      <td>4245.641026</td>\n",
       "      <td>...</td>\n",
       "      <td>0.0</td>\n",
       "      <td>0.0</td>\n",
       "      <td>0.0</td>\n",
       "      <td>0.0</td>\n",
       "      <td>0.0</td>\n",
       "      <td>0.0</td>\n",
       "      <td>0.0</td>\n",
       "      <td>0.0</td>\n",
       "      <td>0.0</td>\n",
       "      <td>0.0</td>\n",
       "    </tr>\n",
       "    <tr>\n",
       "      <td>234</td>\n",
       "      <td>Zebra</td>\n",
       "      <td>AF3</td>\n",
       "      <td>4325.641026</td>\n",
       "      <td>4295.384615</td>\n",
       "      <td>4289.743590</td>\n",
       "      <td>4315.897436</td>\n",
       "      <td>4337.948718</td>\n",
       "      <td>4326.153846</td>\n",
       "      <td>4287.692308</td>\n",
       "      <td>4275.897436</td>\n",
       "      <td>...</td>\n",
       "      <td>0.0</td>\n",
       "      <td>0.0</td>\n",
       "      <td>0.0</td>\n",
       "      <td>0.0</td>\n",
       "      <td>0.0</td>\n",
       "      <td>0.0</td>\n",
       "      <td>0.0</td>\n",
       "      <td>0.0</td>\n",
       "      <td>0.0</td>\n",
       "      <td>0.0</td>\n",
       "    </tr>\n",
       "    <tr>\n",
       "      <td>235</td>\n",
       "      <td>Zebra</td>\n",
       "      <td>AF3</td>\n",
       "      <td>4265.641026</td>\n",
       "      <td>4283.076923</td>\n",
       "      <td>4281.025641</td>\n",
       "      <td>4273.846154</td>\n",
       "      <td>4292.307692</td>\n",
       "      <td>4302.564103</td>\n",
       "      <td>4286.666667</td>\n",
       "      <td>4260.000000</td>\n",
       "      <td>...</td>\n",
       "      <td>0.0</td>\n",
       "      <td>0.0</td>\n",
       "      <td>0.0</td>\n",
       "      <td>0.0</td>\n",
       "      <td>0.0</td>\n",
       "      <td>0.0</td>\n",
       "      <td>0.0</td>\n",
       "      <td>0.0</td>\n",
       "      <td>0.0</td>\n",
       "      <td>0.0</td>\n",
       "    </tr>\n",
       "    <tr>\n",
       "      <td>236</td>\n",
       "      <td>Zebra</td>\n",
       "      <td>AF3</td>\n",
       "      <td>4293.333333</td>\n",
       "      <td>4301.538462</td>\n",
       "      <td>4284.615385</td>\n",
       "      <td>4278.461538</td>\n",
       "      <td>4296.410256</td>\n",
       "      <td>4299.487179</td>\n",
       "      <td>4283.589744</td>\n",
       "      <td>4276.923077</td>\n",
       "      <td>...</td>\n",
       "      <td>0.0</td>\n",
       "      <td>0.0</td>\n",
       "      <td>0.0</td>\n",
       "      <td>0.0</td>\n",
       "      <td>0.0</td>\n",
       "      <td>0.0</td>\n",
       "      <td>0.0</td>\n",
       "      <td>0.0</td>\n",
       "      <td>0.0</td>\n",
       "      <td>0.0</td>\n",
       "    </tr>\n",
       "    <tr>\n",
       "      <td>237</td>\n",
       "      <td>Zebra</td>\n",
       "      <td>AF3</td>\n",
       "      <td>4276.923077</td>\n",
       "      <td>4274.358974</td>\n",
       "      <td>4286.153846</td>\n",
       "      <td>4289.230769</td>\n",
       "      <td>4278.461538</td>\n",
       "      <td>4275.897436</td>\n",
       "      <td>4281.025641</td>\n",
       "      <td>4285.128205</td>\n",
       "      <td>...</td>\n",
       "      <td>0.0</td>\n",
       "      <td>0.0</td>\n",
       "      <td>0.0</td>\n",
       "      <td>0.0</td>\n",
       "      <td>0.0</td>\n",
       "      <td>0.0</td>\n",
       "      <td>0.0</td>\n",
       "      <td>0.0</td>\n",
       "      <td>0.0</td>\n",
       "      <td>0.0</td>\n",
       "    </tr>\n",
       "  </tbody>\n",
       "</table>\n",
       "<p>5 rows × 414 columns</p>\n",
       "</div>"
      ],
      "text/plain": [
       "         0  0.1            1            2            3            4  \\\n",
       "233  Zebra  AF3  4274.871795  4282.564103  4271.794872  4253.333333   \n",
       "234  Zebra  AF3  4325.641026  4295.384615  4289.743590  4315.897436   \n",
       "235  Zebra  AF3  4265.641026  4283.076923  4281.025641  4273.846154   \n",
       "236  Zebra  AF3  4293.333333  4301.538462  4284.615385  4278.461538   \n",
       "237  Zebra  AF3  4276.923077  4274.358974  4286.153846  4289.230769   \n",
       "\n",
       "               5            6            7            8  ...  403  404  405  \\\n",
       "233  4260.512821  4275.897436  4258.461538  4245.641026  ...  0.0  0.0  0.0   \n",
       "234  4337.948718  4326.153846  4287.692308  4275.897436  ...  0.0  0.0  0.0   \n",
       "235  4292.307692  4302.564103  4286.666667  4260.000000  ...  0.0  0.0  0.0   \n",
       "236  4296.410256  4299.487179  4283.589744  4276.923077  ...  0.0  0.0  0.0   \n",
       "237  4278.461538  4275.897436  4281.025641  4285.128205  ...  0.0  0.0  0.0   \n",
       "\n",
       "     406  407  408  409  410  411  412  \n",
       "233  0.0  0.0  0.0  0.0  0.0  0.0  0.0  \n",
       "234  0.0  0.0  0.0  0.0  0.0  0.0  0.0  \n",
       "235  0.0  0.0  0.0  0.0  0.0  0.0  0.0  \n",
       "236  0.0  0.0  0.0  0.0  0.0  0.0  0.0  \n",
       "237  0.0  0.0  0.0  0.0  0.0  0.0  0.0  \n",
       "\n",
       "[5 rows x 414 columns]"
      ]
     },
     "execution_count": 282,
     "metadata": {},
     "output_type": "execute_result"
    }
   ],
   "source": [
    "data.tail()"
   ]
  },
  {
   "cell_type": "code",
   "execution_count": 283,
   "metadata": {
    "ExecuteTime": {
     "end_time": "2020-01-01T09:03:46.573409Z",
     "start_time": "2020-01-01T09:03:46.568422Z"
    }
   },
   "outputs": [],
   "source": [
    "data = data.drop('0.1',axis = 1)"
   ]
  },
  {
   "cell_type": "markdown",
   "metadata": {},
   "source": [
    "## Pre processing"
   ]
  },
  {
   "cell_type": "code",
   "execution_count": 284,
   "metadata": {
    "ExecuteTime": {
     "end_time": "2020-01-01T09:03:48.273891Z",
     "start_time": "2020-01-01T09:03:48.256937Z"
    }
   },
   "outputs": [
    {
     "data": {
      "text/html": [
       "<div>\n",
       "<style scoped>\n",
       "    .dataframe tbody tr th:only-of-type {\n",
       "        vertical-align: middle;\n",
       "    }\n",
       "\n",
       "    .dataframe tbody tr th {\n",
       "        vertical-align: top;\n",
       "    }\n",
       "\n",
       "    .dataframe thead th {\n",
       "        text-align: right;\n",
       "    }\n",
       "</style>\n",
       "<table border=\"1\" class=\"dataframe\">\n",
       "  <thead>\n",
       "    <tr style=\"text-align: right;\">\n",
       "      <th></th>\n",
       "      <th>0</th>\n",
       "      <th>1</th>\n",
       "      <th>2</th>\n",
       "      <th>3</th>\n",
       "      <th>4</th>\n",
       "      <th>5</th>\n",
       "      <th>6</th>\n",
       "      <th>7</th>\n",
       "      <th>8</th>\n",
       "      <th>9</th>\n",
       "      <th>...</th>\n",
       "      <th>403</th>\n",
       "      <th>404</th>\n",
       "      <th>405</th>\n",
       "      <th>406</th>\n",
       "      <th>407</th>\n",
       "      <th>408</th>\n",
       "      <th>409</th>\n",
       "      <th>410</th>\n",
       "      <th>411</th>\n",
       "      <th>412</th>\n",
       "    </tr>\n",
       "  </thead>\n",
       "  <tbody>\n",
       "    <tr>\n",
       "      <td>0</td>\n",
       "      <td>Ambulance</td>\n",
       "      <td>4294.871795</td>\n",
       "      <td>4291.794872</td>\n",
       "      <td>4294.358974</td>\n",
       "      <td>4298.461538</td>\n",
       "      <td>4292.820513</td>\n",
       "      <td>4278.974359</td>\n",
       "      <td>4276.410256</td>\n",
       "      <td>4288.205128</td>\n",
       "      <td>4291.282051</td>\n",
       "      <td>...</td>\n",
       "      <td>0.0</td>\n",
       "      <td>0.0</td>\n",
       "      <td>0.0</td>\n",
       "      <td>0.0</td>\n",
       "      <td>0.0</td>\n",
       "      <td>0.0</td>\n",
       "      <td>0.0</td>\n",
       "      <td>0.0</td>\n",
       "      <td>0.0</td>\n",
       "      <td>0.0</td>\n",
       "    </tr>\n",
       "    <tr>\n",
       "      <td>1</td>\n",
       "      <td>Ambulance</td>\n",
       "      <td>4272.307692</td>\n",
       "      <td>4274.871795</td>\n",
       "      <td>4266.153846</td>\n",
       "      <td>4262.051282</td>\n",
       "      <td>4254.358974</td>\n",
       "      <td>4251.282051</td>\n",
       "      <td>4264.102564</td>\n",
       "      <td>4250.769231</td>\n",
       "      <td>4244.102564</td>\n",
       "      <td>...</td>\n",
       "      <td>0.0</td>\n",
       "      <td>0.0</td>\n",
       "      <td>0.0</td>\n",
       "      <td>0.0</td>\n",
       "      <td>0.0</td>\n",
       "      <td>0.0</td>\n",
       "      <td>0.0</td>\n",
       "      <td>0.0</td>\n",
       "      <td>0.0</td>\n",
       "      <td>0.0</td>\n",
       "    </tr>\n",
       "    <tr>\n",
       "      <td>2</td>\n",
       "      <td>Ambulance</td>\n",
       "      <td>4209.230769</td>\n",
       "      <td>4217.435897</td>\n",
       "      <td>4197.435897</td>\n",
       "      <td>4180.000000</td>\n",
       "      <td>4194.871795</td>\n",
       "      <td>4205.641026</td>\n",
       "      <td>4197.435897</td>\n",
       "      <td>4201.025641</td>\n",
       "      <td>4202.564103</td>\n",
       "      <td>...</td>\n",
       "      <td>0.0</td>\n",
       "      <td>0.0</td>\n",
       "      <td>0.0</td>\n",
       "      <td>0.0</td>\n",
       "      <td>0.0</td>\n",
       "      <td>0.0</td>\n",
       "      <td>0.0</td>\n",
       "      <td>0.0</td>\n",
       "      <td>0.0</td>\n",
       "      <td>0.0</td>\n",
       "    </tr>\n",
       "    <tr>\n",
       "      <td>3</td>\n",
       "      <td>Ambulance</td>\n",
       "      <td>4287.692308</td>\n",
       "      <td>4294.358974</td>\n",
       "      <td>4312.820513</td>\n",
       "      <td>4309.743590</td>\n",
       "      <td>4288.717949</td>\n",
       "      <td>4295.384615</td>\n",
       "      <td>4313.846154</td>\n",
       "      <td>4301.538462</td>\n",
       "      <td>4288.717949</td>\n",
       "      <td>...</td>\n",
       "      <td>0.0</td>\n",
       "      <td>0.0</td>\n",
       "      <td>0.0</td>\n",
       "      <td>0.0</td>\n",
       "      <td>0.0</td>\n",
       "      <td>0.0</td>\n",
       "      <td>0.0</td>\n",
       "      <td>0.0</td>\n",
       "      <td>0.0</td>\n",
       "      <td>0.0</td>\n",
       "    </tr>\n",
       "    <tr>\n",
       "      <td>4</td>\n",
       "      <td>Ambulance</td>\n",
       "      <td>4324.102564</td>\n",
       "      <td>4311.794872</td>\n",
       "      <td>4287.692308</td>\n",
       "      <td>4289.230769</td>\n",
       "      <td>4304.615385</td>\n",
       "      <td>4295.897436</td>\n",
       "      <td>4290.769231</td>\n",
       "      <td>4322.564103</td>\n",
       "      <td>4334.871795</td>\n",
       "      <td>...</td>\n",
       "      <td>0.0</td>\n",
       "      <td>0.0</td>\n",
       "      <td>0.0</td>\n",
       "      <td>0.0</td>\n",
       "      <td>0.0</td>\n",
       "      <td>0.0</td>\n",
       "      <td>0.0</td>\n",
       "      <td>0.0</td>\n",
       "      <td>0.0</td>\n",
       "      <td>0.0</td>\n",
       "    </tr>\n",
       "  </tbody>\n",
       "</table>\n",
       "<p>5 rows × 413 columns</p>\n",
       "</div>"
      ],
      "text/plain": [
       "           0            1            2            3            4            5  \\\n",
       "0  Ambulance  4294.871795  4291.794872  4294.358974  4298.461538  4292.820513   \n",
       "1  Ambulance  4272.307692  4274.871795  4266.153846  4262.051282  4254.358974   \n",
       "2  Ambulance  4209.230769  4217.435897  4197.435897  4180.000000  4194.871795   \n",
       "3  Ambulance  4287.692308  4294.358974  4312.820513  4309.743590  4288.717949   \n",
       "4  Ambulance  4324.102564  4311.794872  4287.692308  4289.230769  4304.615385   \n",
       "\n",
       "             6            7            8            9  ...  403  404  405  \\\n",
       "0  4278.974359  4276.410256  4288.205128  4291.282051  ...  0.0  0.0  0.0   \n",
       "1  4251.282051  4264.102564  4250.769231  4244.102564  ...  0.0  0.0  0.0   \n",
       "2  4205.641026  4197.435897  4201.025641  4202.564103  ...  0.0  0.0  0.0   \n",
       "3  4295.384615  4313.846154  4301.538462  4288.717949  ...  0.0  0.0  0.0   \n",
       "4  4295.897436  4290.769231  4322.564103  4334.871795  ...  0.0  0.0  0.0   \n",
       "\n",
       "   406  407  408  409  410  411  412  \n",
       "0  0.0  0.0  0.0  0.0  0.0  0.0  0.0  \n",
       "1  0.0  0.0  0.0  0.0  0.0  0.0  0.0  \n",
       "2  0.0  0.0  0.0  0.0  0.0  0.0  0.0  \n",
       "3  0.0  0.0  0.0  0.0  0.0  0.0  0.0  \n",
       "4  0.0  0.0  0.0  0.0  0.0  0.0  0.0  \n",
       "\n",
       "[5 rows x 413 columns]"
      ]
     },
     "execution_count": 284,
     "metadata": {},
     "output_type": "execute_result"
    }
   ],
   "source": [
    "data = data.fillna(0);data.head()"
   ]
  },
  {
   "cell_type": "code",
   "execution_count": 285,
   "metadata": {
    "ExecuteTime": {
     "end_time": "2020-01-01T09:03:48.971006Z",
     "start_time": "2020-01-01T09:03:48.965022Z"
    }
   },
   "outputs": [],
   "source": [
    "data = data[data.columns[:392]]"
   ]
  },
  {
   "cell_type": "code",
   "execution_count": 286,
   "metadata": {
    "ExecuteTime": {
     "end_time": "2020-01-01T09:03:51.602816Z",
     "start_time": "2020-01-01T09:03:51.596832Z"
    }
   },
   "outputs": [],
   "source": [
    "data['0']=data['0'].astype('category') "
   ]
  },
  {
   "cell_type": "code",
   "execution_count": 287,
   "metadata": {
    "ExecuteTime": {
     "end_time": "2020-01-01T09:03:52.181166Z",
     "start_time": "2020-01-01T09:03:52.177176Z"
    },
    "scrolled": false
   },
   "outputs": [],
   "source": [
    "data['0'] = data['0'].cat.codes"
   ]
  },
  {
   "cell_type": "code",
   "execution_count": 288,
   "metadata": {
    "ExecuteTime": {
     "end_time": "2020-01-01T09:03:54.938918Z",
     "start_time": "2020-01-01T09:03:54.922962Z"
    },
    "scrolled": true
   },
   "outputs": [
    {
     "data": {
      "text/html": [
       "<div>\n",
       "<style scoped>\n",
       "    .dataframe tbody tr th:only-of-type {\n",
       "        vertical-align: middle;\n",
       "    }\n",
       "\n",
       "    .dataframe tbody tr th {\n",
       "        vertical-align: top;\n",
       "    }\n",
       "\n",
       "    .dataframe thead th {\n",
       "        text-align: right;\n",
       "    }\n",
       "</style>\n",
       "<table border=\"1\" class=\"dataframe\">\n",
       "  <thead>\n",
       "    <tr style=\"text-align: right;\">\n",
       "      <th></th>\n",
       "      <th>0</th>\n",
       "      <th>1</th>\n",
       "      <th>2</th>\n",
       "      <th>3</th>\n",
       "      <th>4</th>\n",
       "      <th>5</th>\n",
       "      <th>6</th>\n",
       "      <th>7</th>\n",
       "      <th>8</th>\n",
       "      <th>9</th>\n",
       "      <th>...</th>\n",
       "      <th>382</th>\n",
       "      <th>383</th>\n",
       "      <th>384</th>\n",
       "      <th>385</th>\n",
       "      <th>386</th>\n",
       "      <th>387</th>\n",
       "      <th>388</th>\n",
       "      <th>389</th>\n",
       "      <th>390</th>\n",
       "      <th>391</th>\n",
       "    </tr>\n",
       "  </thead>\n",
       "  <tbody>\n",
       "    <tr>\n",
       "      <td>233</td>\n",
       "      <td>9</td>\n",
       "      <td>4274.871795</td>\n",
       "      <td>4282.564103</td>\n",
       "      <td>4271.794872</td>\n",
       "      <td>4253.333333</td>\n",
       "      <td>4260.512821</td>\n",
       "      <td>4275.897436</td>\n",
       "      <td>4258.461538</td>\n",
       "      <td>4245.641026</td>\n",
       "      <td>4262.051282</td>\n",
       "      <td>...</td>\n",
       "      <td>4305.128205</td>\n",
       "      <td>4274.871795</td>\n",
       "      <td>4281.025641</td>\n",
       "      <td>4305.128205</td>\n",
       "      <td>4298.974359</td>\n",
       "      <td>4277.948718</td>\n",
       "      <td>4274.871795</td>\n",
       "      <td>0.000000</td>\n",
       "      <td>0.000000</td>\n",
       "      <td>0.000000</td>\n",
       "    </tr>\n",
       "    <tr>\n",
       "      <td>234</td>\n",
       "      <td>9</td>\n",
       "      <td>4325.641026</td>\n",
       "      <td>4295.384615</td>\n",
       "      <td>4289.743590</td>\n",
       "      <td>4315.897436</td>\n",
       "      <td>4337.948718</td>\n",
       "      <td>4326.153846</td>\n",
       "      <td>4287.692308</td>\n",
       "      <td>4275.897436</td>\n",
       "      <td>4307.692308</td>\n",
       "      <td>...</td>\n",
       "      <td>4258.974359</td>\n",
       "      <td>4254.871795</td>\n",
       "      <td>4260.000000</td>\n",
       "      <td>4273.333333</td>\n",
       "      <td>4276.410256</td>\n",
       "      <td>4274.358974</td>\n",
       "      <td>4280.512821</td>\n",
       "      <td>4277.435897</td>\n",
       "      <td>4252.307692</td>\n",
       "      <td>4231.794872</td>\n",
       "    </tr>\n",
       "    <tr>\n",
       "      <td>235</td>\n",
       "      <td>9</td>\n",
       "      <td>4265.641026</td>\n",
       "      <td>4283.076923</td>\n",
       "      <td>4281.025641</td>\n",
       "      <td>4273.846154</td>\n",
       "      <td>4292.307692</td>\n",
       "      <td>4302.564103</td>\n",
       "      <td>4286.666667</td>\n",
       "      <td>4260.000000</td>\n",
       "      <td>4248.205128</td>\n",
       "      <td>...</td>\n",
       "      <td>0.000000</td>\n",
       "      <td>0.000000</td>\n",
       "      <td>0.000000</td>\n",
       "      <td>0.000000</td>\n",
       "      <td>0.000000</td>\n",
       "      <td>0.000000</td>\n",
       "      <td>0.000000</td>\n",
       "      <td>0.000000</td>\n",
       "      <td>0.000000</td>\n",
       "      <td>0.000000</td>\n",
       "    </tr>\n",
       "    <tr>\n",
       "      <td>236</td>\n",
       "      <td>9</td>\n",
       "      <td>4293.333333</td>\n",
       "      <td>4301.538462</td>\n",
       "      <td>4284.615385</td>\n",
       "      <td>4278.461538</td>\n",
       "      <td>4296.410256</td>\n",
       "      <td>4299.487179</td>\n",
       "      <td>4283.589744</td>\n",
       "      <td>4276.923077</td>\n",
       "      <td>4287.179487</td>\n",
       "      <td>...</td>\n",
       "      <td>4195.897436</td>\n",
       "      <td>4190.769231</td>\n",
       "      <td>4193.333333</td>\n",
       "      <td>4195.384615</td>\n",
       "      <td>4197.435897</td>\n",
       "      <td>4187.179487</td>\n",
       "      <td>4187.179487</td>\n",
       "      <td>4208.717949</td>\n",
       "      <td>4208.205128</td>\n",
       "      <td>4182.564103</td>\n",
       "    </tr>\n",
       "    <tr>\n",
       "      <td>237</td>\n",
       "      <td>9</td>\n",
       "      <td>4276.923077</td>\n",
       "      <td>4274.358974</td>\n",
       "      <td>4286.153846</td>\n",
       "      <td>4289.230769</td>\n",
       "      <td>4278.461538</td>\n",
       "      <td>4275.897436</td>\n",
       "      <td>4281.025641</td>\n",
       "      <td>4285.128205</td>\n",
       "      <td>4293.846154</td>\n",
       "      <td>...</td>\n",
       "      <td>4266.666667</td>\n",
       "      <td>4269.743590</td>\n",
       "      <td>4259.487179</td>\n",
       "      <td>4269.743590</td>\n",
       "      <td>4285.128205</td>\n",
       "      <td>4265.641026</td>\n",
       "      <td>4262.564103</td>\n",
       "      <td>4292.820513</td>\n",
       "      <td>4294.358974</td>\n",
       "      <td>4265.641026</td>\n",
       "    </tr>\n",
       "  </tbody>\n",
       "</table>\n",
       "<p>5 rows × 392 columns</p>\n",
       "</div>"
      ],
      "text/plain": [
       "     0            1            2            3            4            5  \\\n",
       "233  9  4274.871795  4282.564103  4271.794872  4253.333333  4260.512821   \n",
       "234  9  4325.641026  4295.384615  4289.743590  4315.897436  4337.948718   \n",
       "235  9  4265.641026  4283.076923  4281.025641  4273.846154  4292.307692   \n",
       "236  9  4293.333333  4301.538462  4284.615385  4278.461538  4296.410256   \n",
       "237  9  4276.923077  4274.358974  4286.153846  4289.230769  4278.461538   \n",
       "\n",
       "               6            7            8            9  ...          382  \\\n",
       "233  4275.897436  4258.461538  4245.641026  4262.051282  ...  4305.128205   \n",
       "234  4326.153846  4287.692308  4275.897436  4307.692308  ...  4258.974359   \n",
       "235  4302.564103  4286.666667  4260.000000  4248.205128  ...     0.000000   \n",
       "236  4299.487179  4283.589744  4276.923077  4287.179487  ...  4195.897436   \n",
       "237  4275.897436  4281.025641  4285.128205  4293.846154  ...  4266.666667   \n",
       "\n",
       "             383          384          385          386          387  \\\n",
       "233  4274.871795  4281.025641  4305.128205  4298.974359  4277.948718   \n",
       "234  4254.871795  4260.000000  4273.333333  4276.410256  4274.358974   \n",
       "235     0.000000     0.000000     0.000000     0.000000     0.000000   \n",
       "236  4190.769231  4193.333333  4195.384615  4197.435897  4187.179487   \n",
       "237  4269.743590  4259.487179  4269.743590  4285.128205  4265.641026   \n",
       "\n",
       "             388          389          390          391  \n",
       "233  4274.871795     0.000000     0.000000     0.000000  \n",
       "234  4280.512821  4277.435897  4252.307692  4231.794872  \n",
       "235     0.000000     0.000000     0.000000     0.000000  \n",
       "236  4187.179487  4208.717949  4208.205128  4182.564103  \n",
       "237  4262.564103  4292.820513  4294.358974  4265.641026  \n",
       "\n",
       "[5 rows x 392 columns]"
      ]
     },
     "execution_count": 288,
     "metadata": {},
     "output_type": "execute_result"
    }
   ],
   "source": [
    "data.tail()"
   ]
  },
  {
   "cell_type": "markdown",
   "metadata": {},
   "source": [
    "# Models - test"
   ]
  },
  {
   "cell_type": "code",
   "execution_count": 67,
   "metadata": {
    "ExecuteTime": {
     "end_time": "2019-12-31T15:16:02.807442Z",
     "start_time": "2019-12-31T15:15:59.537408Z"
    }
   },
   "outputs": [],
   "source": [
    "from sklearn.model_selection import train_test_split\n",
    "from xgboost import XGBClassifier\n",
    "from sklearn.metrics import classification_report,confusion_matrix,accuracy_score,roc_curve,auc"
   ]
  },
  {
   "cell_type": "code",
   "execution_count": 63,
   "metadata": {
    "ExecuteTime": {
     "end_time": "2019-12-31T15:14:46.486295Z",
     "start_time": "2019-12-31T15:14:46.457855Z"
    }
   },
   "outputs": [],
   "source": [
    "splitRatio = 0.2\n",
    "train , test = train_test_split(data,test_size = splitRatio,random_state = 123,shuffle=True)"
   ]
  },
  {
   "cell_type": "code",
   "execution_count": 70,
   "metadata": {
    "ExecuteTime": {
     "end_time": "2019-12-31T15:19:23.530520Z",
     "start_time": "2019-12-31T15:19:23.523538Z"
    }
   },
   "outputs": [],
   "source": [
    "train_X = train.drop('0',axis = 1)\n",
    "train_y = train['0']\n",
    "test_X = test.drop('0',axis = 1)\n",
    "test_y = test['0']"
   ]
  },
  {
   "cell_type": "code",
   "execution_count": 81,
   "metadata": {
    "ExecuteTime": {
     "end_time": "2019-12-31T15:23:09.252648Z",
     "start_time": "2019-12-31T15:23:09.247662Z"
    }
   },
   "outputs": [],
   "source": [
    "classifier =  XGBClassifier(\n",
    " random_state=777,\n",
    "    verbose_eval = True,\n",
    " )"
   ]
  },
  {
   "cell_type": "code",
   "execution_count": 82,
   "metadata": {
    "ExecuteTime": {
     "end_time": "2019-12-31T15:23:16.460767Z",
     "start_time": "2019-12-31T15:23:11.313908Z"
    }
   },
   "outputs": [
    {
     "data": {
      "text/plain": [
       "XGBClassifier(base_score=0.5, booster='gbtree', colsample_bylevel=1,\n",
       "              colsample_bynode=1, colsample_bytree=1, gamma=0,\n",
       "              learning_rate=0.1, max_delta_step=0, max_depth=3,\n",
       "              min_child_weight=1, missing=None, n_estimators=100, n_jobs=1,\n",
       "              nthread=None, objective='multi:softprob', random_state=777,\n",
       "              reg_alpha=0, reg_lambda=1, scale_pos_weight=1, seed=None,\n",
       "              silent=None, subsample=1, verbose_eval=True, verbosity=1)"
      ]
     },
     "execution_count": 82,
     "metadata": {},
     "output_type": "execute_result"
    }
   ],
   "source": [
    "classifier.fit(train_X,train_y.values.ravel())"
   ]
  },
  {
   "cell_type": "code",
   "execution_count": 84,
   "metadata": {
    "ExecuteTime": {
     "end_time": "2019-12-31T15:23:42.739648Z",
     "start_time": "2019-12-31T15:23:42.700515Z"
    }
   },
   "outputs": [
    {
     "name": "stdout",
     "output_type": "stream",
     "text": [
      "\n",
      "accuracy_score : 0.10416666666666667\n",
      "\n",
      "classification report :\n",
      "               precision    recall  f1-score   support\n",
      "\n",
      "           0       0.12      0.20      0.15         5\n",
      "           1       0.00      0.00      0.00         6\n",
      "           2       0.00      0.00      0.00         4\n",
      "           3       0.00      0.00      0.00         7\n",
      "           4       0.20      0.50      0.29         4\n",
      "           5       0.33      0.17      0.22         6\n",
      "           6       0.00      0.00      0.00         1\n",
      "           7       0.00      0.00      0.00         5\n",
      "           8       0.20      0.12      0.15         8\n",
      "           9       0.00      0.00      0.00         2\n",
      "\n",
      "    accuracy                           0.10        48\n",
      "   macro avg       0.09      0.10      0.08        48\n",
      "weighted avg       0.10      0.10      0.09        48\n",
      "\n"
     ]
    }
   ],
   "source": [
    "predictions = classifier.predict(test_X)\n",
    "print (\"\\naccuracy_score :\",accuracy_score(test_y,predictions))\n",
    "print (\"\\nclassification report :\\n\",(classification_report(test_y,predictions)))"
   ]
  },
  {
   "cell_type": "code",
   "execution_count": 85,
   "metadata": {
    "ExecuteTime": {
     "end_time": "2020-01-01T07:34:02.529364Z",
     "start_time": "2020-01-01T07:33:56.436051Z"
    }
   },
   "outputs": [],
   "source": [
    "from sklearn.ensemble import RandomForestClassifier"
   ]
  },
  {
   "cell_type": "code",
   "execution_count": 86,
   "metadata": {
    "ExecuteTime": {
     "end_time": "2020-01-01T07:34:03.750498Z",
     "start_time": "2020-01-01T07:34:03.743511Z"
    }
   },
   "outputs": [],
   "source": [
    "rf = RandomForestClassifier(n_estimators=150, n_jobs=-1, criterion=\"entropy\", random_state=1)"
   ]
  },
  {
   "cell_type": "code",
   "execution_count": 87,
   "metadata": {
    "ExecuteTime": {
     "end_time": "2020-01-01T07:34:05.096031Z",
     "start_time": "2020-01-01T07:34:04.874582Z"
    }
   },
   "outputs": [
    {
     "data": {
      "text/plain": [
       "RandomForestClassifier(bootstrap=True, class_weight=None, criterion='entropy',\n",
       "                       max_depth=None, max_features='auto', max_leaf_nodes=None,\n",
       "                       min_impurity_decrease=0.0, min_impurity_split=None,\n",
       "                       min_samples_leaf=1, min_samples_split=2,\n",
       "                       min_weight_fraction_leaf=0.0, n_estimators=150,\n",
       "                       n_jobs=-1, oob_score=False, random_state=1, verbose=0,\n",
       "                       warm_start=False)"
      ]
     },
     "execution_count": 87,
     "metadata": {},
     "output_type": "execute_result"
    }
   ],
   "source": [
    "rf.fit(train_X,train_y.values.ravel())"
   ]
  },
  {
   "cell_type": "code",
   "execution_count": 88,
   "metadata": {
    "ExecuteTime": {
     "end_time": "2020-01-01T07:34:07.210064Z",
     "start_time": "2020-01-01T07:34:07.094084Z"
    }
   },
   "outputs": [
    {
     "name": "stdout",
     "output_type": "stream",
     "text": [
      "\n",
      "accuracy_score : 0.125\n",
      "\n",
      "classification report :\n",
      "               precision    recall  f1-score   support\n",
      "\n",
      "           0       0.33      0.20      0.25         5\n",
      "           1       0.00      0.00      0.00         6\n",
      "           2       0.00      0.00      0.00         4\n",
      "           3       0.18      0.29      0.22         7\n",
      "           4       0.15      0.50      0.24         4\n",
      "           5       0.00      0.00      0.00         6\n",
      "           6       0.00      0.00      0.00         1\n",
      "           7       0.20      0.20      0.20         5\n",
      "           8       0.00      0.00      0.00         8\n",
      "           9       0.00      0.00      0.00         2\n",
      "\n",
      "    accuracy                           0.12        48\n",
      "   macro avg       0.09      0.12      0.09        48\n",
      "weighted avg       0.09      0.12      0.10        48\n",
      "\n"
     ]
    },
    {
     "name": "stderr",
     "output_type": "stream",
     "text": [
      "C:\\Users\\msubh\\Anaconda3\\lib\\site-packages\\sklearn\\metrics\\classification.py:1437: UndefinedMetricWarning: Precision and F-score are ill-defined and being set to 0.0 in labels with no predicted samples.\n",
      "  'precision', 'predicted', average, warn_for)\n"
     ]
    }
   ],
   "source": [
    "predictions = rf.predict(test_X)\n",
    "print (\"\\naccuracy_score :\",accuracy_score(test_y,predictions))\n",
    "print (\"\\nclassification report :\\n\",(classification_report(test_y,predictions)))"
   ]
  },
  {
   "cell_type": "markdown",
   "metadata": {},
   "source": [
    "# Plot"
   ]
  },
  {
   "cell_type": "code",
   "execution_count": 101,
   "metadata": {
    "ExecuteTime": {
     "end_time": "2020-01-01T07:37:44.166091Z",
     "start_time": "2020-01-01T07:37:43.966626Z"
    }
   },
   "outputs": [],
   "source": [
    "import matplotlib.pyplot as plt"
   ]
  },
  {
   "cell_type": "code",
   "execution_count": 289,
   "metadata": {
    "ExecuteTime": {
     "end_time": "2020-01-01T09:03:59.039553Z",
     "start_time": "2020-01-01T09:03:59.033570Z"
    }
   },
   "outputs": [
    {
     "data": {
      "text/plain": [
       "0         0.000000\n",
       "1      4294.871795\n",
       "2      4291.794872\n",
       "3      4294.358974\n",
       "4      4298.461538\n",
       "          ...     \n",
       "387       0.000000\n",
       "388       0.000000\n",
       "389       0.000000\n",
       "390       0.000000\n",
       "391       0.000000\n",
       "Name: 0, Length: 392, dtype: float64"
      ]
     },
     "execution_count": 289,
     "metadata": {},
     "output_type": "execute_result"
    }
   ],
   "source": [
    "data.iloc[0]"
   ]
  },
  {
   "cell_type": "code",
   "execution_count": 290,
   "metadata": {
    "ExecuteTime": {
     "end_time": "2020-01-01T09:04:00.646897Z",
     "start_time": "2020-01-01T09:04:00.524920Z"
    }
   },
   "outputs": [
    {
     "data": {
      "text/plain": [
       "[<matplotlib.lines.Line2D at 0x23bfff5ef08>]"
      ]
     },
     "execution_count": 290,
     "metadata": {},
     "output_type": "execute_result"
    },
    {
     "data": {
      "image/png": "[encoded data removed]",
      "text/plain": [
       "<Figure size 432x288 with 1 Axes>"
      ]
     },
     "metadata": {
      "needs_background": "light"
     },
     "output_type": "display_data"
    }
   ],
   "source": [
    "temp = data.iloc[200].tolist()\n",
    "temp.pop(0);temp\n",
    "\n",
    "plt.ylim(4100, 4500)\n",
    "plt.plot(temp)\n"
   ]
  },
  {
   "cell_type": "code",
   "execution_count": 291,
   "metadata": {
    "ExecuteTime": {
     "end_time": "2020-01-01T09:04:01.865068Z",
     "start_time": "2020-01-01T09:04:01.860081Z"
    }
   },
   "outputs": [
    {
     "data": {
      "text/plain": [
       "(238, 392)"
      ]
     },
     "execution_count": 291,
     "metadata": {},
     "output_type": "execute_result"
    }
   ],
   "source": [
    "data.shape"
   ]
  },
  {
   "cell_type": "markdown",
   "metadata": {},
   "source": [
    "## Saving plots "
   ]
  },
  {
   "cell_type": "code",
   "execution_count": 210,
   "metadata": {
    "ExecuteTime": {
     "end_time": "2020-01-01T08:14:49.259069Z",
     "start_time": "2020-01-01T08:14:41.964832Z"
    }
   },
   "outputs": [
    {
     "data": {
      "image/png": "[encoded data removed]",
      "text/plain": [
       "<Figure size 432x288 with 1 Axes>"
      ]
     },
     "metadata": {
      "needs_background": "light"
     },
     "output_type": "display_data"
    }
   ],
   "source": [
    "counter = 0\n",
    "for a in range(238):\n",
    "    temp =data.iloc[a].tolist()\n",
    "    label = int(temp.pop(0))\n",
    "#     temp.pop(0)\n",
    "    plt.clf()\n",
    "    plt.axis('off')\n",
    "#     print(temp)\n",
    "    plt.ylim(4100, 4500)\n",
    "    plt.plot(temp)\n",
    "    plt.savefig(f\"data/subsetImage/{label}-{counter}.jpg\")\n",
    "    counter+=1"
   ]
  },
  {
   "cell_type": "markdown",
   "metadata": {},
   "source": [
    "# RUN FROM HERE"
   ]
  },
  {
   "cell_type": "code",
   "execution_count": 179,
   "metadata": {
    "ExecuteTime": {
     "end_time": "2020-01-01T08:05:12.926596Z",
     "start_time": "2020-01-01T08:05:11.252750Z"
    }
   },
   "outputs": [],
   "source": [
    "from fastai.vision import *"
   ]
  },
  {
   "cell_type": "code",
   "execution_count": 211,
   "metadata": {
    "ExecuteTime": {
     "end_time": "2020-01-01T08:16:51.205575Z",
     "start_time": "2020-01-01T08:16:51.201074Z"
    }
   },
   "outputs": [],
   "source": [
    "path = Path('data/subsetImage')"
   ]
  },
  {
   "cell_type": "code",
   "execution_count": 292,
   "metadata": {
    "ExecuteTime": {
     "end_time": "2020-01-01T09:04:06.972515Z",
     "start_time": "2020-01-01T09:04:06.964523Z"
    }
   },
   "outputs": [
    {
     "data": {
      "text/plain": [
       "[WindowsPath('data/subsetImage/0-0.jpg'),\n",
       " WindowsPath('data/subsetImage/0-1.jpg'),\n",
       " WindowsPath('data/subsetImage/0-10.jpg'),\n",
       " WindowsPath('data/subsetImage/0-11.jpg'),\n",
       " WindowsPath('data/subsetImage/0-12.jpg'),\n",
       " WindowsPath('data/subsetImage/0-13.jpg'),\n",
       " WindowsPath('data/subsetImage/0-14.jpg'),\n",
       " WindowsPath('data/subsetImage/0-15.jpg'),\n",
       " WindowsPath('data/subsetImage/0-16.jpg'),\n",
       " WindowsPath('data/subsetImage/0-17.jpg'),\n",
       " WindowsPath('data/subsetImage/0-18.jpg'),\n",
       " WindowsPath('data/subsetImage/0-19.jpg'),\n",
       " WindowsPath('data/subsetImage/0-2.jpg'),\n",
       " WindowsPath('data/subsetImage/0-20.jpg'),\n",
       " WindowsPath('data/subsetImage/0-21.jpg'),\n",
       " WindowsPath('data/subsetImage/0-3.jpg'),\n",
       " WindowsPath('data/subsetImage/0-4.jpg'),\n",
       " WindowsPath('data/subsetImage/0-5.jpg'),\n",
       " WindowsPath('data/subsetImage/0-6.jpg'),\n",
       " WindowsPath('data/subsetImage/0-7.jpg'),\n",
       " WindowsPath('data/subsetImage/0-8.jpg'),\n",
       " WindowsPath('data/subsetImage/0-9.jpg'),\n",
       " WindowsPath('data/subsetImage/1-22.jpg'),\n",
       " WindowsPath('data/subsetImage/1-23.jpg'),\n",
       " WindowsPath('data/subsetImage/1-24.jpg'),\n",
       " WindowsPath('data/subsetImage/1-25.jpg'),\n",
       " WindowsPath('data/subsetImage/1-26.jpg'),\n",
       " WindowsPath('data/subsetImage/1-27.jpg'),\n",
       " WindowsPath('data/subsetImage/1-28.jpg'),\n",
       " WindowsPath('data/subsetImage/1-29.jpg'),\n",
       " WindowsPath('data/subsetImage/1-30.jpg'),\n",
       " WindowsPath('data/subsetImage/1-31.jpg'),\n",
       " WindowsPath('data/subsetImage/1-32.jpg'),\n",
       " WindowsPath('data/subsetImage/1-33.jpg'),\n",
       " WindowsPath('data/subsetImage/1-34.jpg'),\n",
       " WindowsPath('data/subsetImage/1-35.jpg'),\n",
       " WindowsPath('data/subsetImage/1-36.jpg'),\n",
       " WindowsPath('data/subsetImage/1-37.jpg'),\n",
       " WindowsPath('data/subsetImage/1-38.jpg'),\n",
       " WindowsPath('data/subsetImage/1-39.jpg'),\n",
       " WindowsPath('data/subsetImage/1-40.jpg'),\n",
       " WindowsPath('data/subsetImage/1-41.jpg'),\n",
       " WindowsPath('data/subsetImage/1-42.jpg'),\n",
       " WindowsPath('data/subsetImage/1-43.jpg'),\n",
       " WindowsPath('data/subsetImage/1-44.jpg'),\n",
       " WindowsPath('data/subsetImage/1-45.jpg'),\n",
       " WindowsPath('data/subsetImage/2-46.jpg'),\n",
       " WindowsPath('data/subsetImage/2-47.jpg'),\n",
       " WindowsPath('data/subsetImage/2-48.jpg'),\n",
       " WindowsPath('data/subsetImage/2-49.jpg'),\n",
       " WindowsPath('data/subsetImage/2-50.jpg'),\n",
       " WindowsPath('data/subsetImage/2-51.jpg'),\n",
       " WindowsPath('data/subsetImage/2-52.jpg'),\n",
       " WindowsPath('data/subsetImage/2-53.jpg'),\n",
       " WindowsPath('data/subsetImage/2-54.jpg'),\n",
       " WindowsPath('data/subsetImage/2-55.jpg'),\n",
       " WindowsPath('data/subsetImage/2-56.jpg'),\n",
       " WindowsPath('data/subsetImage/2-57.jpg'),\n",
       " WindowsPath('data/subsetImage/2-58.jpg'),\n",
       " WindowsPath('data/subsetImage/2-59.jpg'),\n",
       " WindowsPath('data/subsetImage/2-60.jpg'),\n",
       " WindowsPath('data/subsetImage/2-61.jpg'),\n",
       " WindowsPath('data/subsetImage/2-62.jpg'),\n",
       " WindowsPath('data/subsetImage/2-63.jpg'),\n",
       " WindowsPath('data/subsetImage/2-64.jpg'),\n",
       " WindowsPath('data/subsetImage/2-65.jpg'),\n",
       " WindowsPath('data/subsetImage/2-66.jpg'),\n",
       " WindowsPath('data/subsetImage/2-67.jpg'),\n",
       " WindowsPath('data/subsetImage/2-68.jpg'),\n",
       " WindowsPath('data/subsetImage/2-69.jpg'),\n",
       " WindowsPath('data/subsetImage/2-70.jpg'),\n",
       " WindowsPath('data/subsetImage/2-71.jpg'),\n",
       " WindowsPath('data/subsetImage/3-100.jpg'),\n",
       " WindowsPath('data/subsetImage/3-72.jpg'),\n",
       " WindowsPath('data/subsetImage/3-73.jpg'),\n",
       " WindowsPath('data/subsetImage/3-74.jpg'),\n",
       " WindowsPath('data/subsetImage/3-75.jpg'),\n",
       " WindowsPath('data/subsetImage/3-76.jpg'),\n",
       " WindowsPath('data/subsetImage/3-77.jpg'),\n",
       " WindowsPath('data/subsetImage/3-78.jpg'),\n",
       " WindowsPath('data/subsetImage/3-79.jpg'),\n",
       " WindowsPath('data/subsetImage/3-80.jpg'),\n",
       " WindowsPath('data/subsetImage/3-81.jpg'),\n",
       " WindowsPath('data/subsetImage/3-82.jpg'),\n",
       " WindowsPath('data/subsetImage/3-83.jpg'),\n",
       " WindowsPath('data/subsetImage/3-84.jpg'),\n",
       " WindowsPath('data/subsetImage/3-85.jpg'),\n",
       " WindowsPath('data/subsetImage/3-86.jpg'),\n",
       " WindowsPath('data/subsetImage/3-87.jpg'),\n",
       " WindowsPath('data/subsetImage/3-88.jpg'),\n",
       " WindowsPath('data/subsetImage/3-89.jpg'),\n",
       " WindowsPath('data/subsetImage/3-90.jpg'),\n",
       " WindowsPath('data/subsetImage/3-91.jpg'),\n",
       " WindowsPath('data/subsetImage/3-92.jpg'),\n",
       " WindowsPath('data/subsetImage/3-93.jpg'),\n",
       " WindowsPath('data/subsetImage/3-94.jpg'),\n",
       " WindowsPath('data/subsetImage/3-95.jpg'),\n",
       " WindowsPath('data/subsetImage/3-96.jpg'),\n",
       " WindowsPath('data/subsetImage/3-97.jpg'),\n",
       " WindowsPath('data/subsetImage/3-98.jpg'),\n",
       " WindowsPath('data/subsetImage/3-99.jpg'),\n",
       " WindowsPath('data/subsetImage/4-101.jpg'),\n",
       " WindowsPath('data/subsetImage/4-102.jpg'),\n",
       " WindowsPath('data/subsetImage/4-103.jpg'),\n",
       " WindowsPath('data/subsetImage/4-104.jpg'),\n",
       " WindowsPath('data/subsetImage/4-105.jpg'),\n",
       " WindowsPath('data/subsetImage/4-106.jpg'),\n",
       " WindowsPath('data/subsetImage/4-107.jpg'),\n",
       " WindowsPath('data/subsetImage/4-108.jpg'),\n",
       " WindowsPath('data/subsetImage/4-109.jpg'),\n",
       " WindowsPath('data/subsetImage/4-110.jpg'),\n",
       " WindowsPath('data/subsetImage/4-111.jpg'),\n",
       " WindowsPath('data/subsetImage/4-112.jpg'),\n",
       " WindowsPath('data/subsetImage/4-113.jpg'),\n",
       " WindowsPath('data/subsetImage/4-114.jpg'),\n",
       " WindowsPath('data/subsetImage/4-115.jpg'),\n",
       " WindowsPath('data/subsetImage/4-116.jpg'),\n",
       " WindowsPath('data/subsetImage/4-117.jpg'),\n",
       " WindowsPath('data/subsetImage/4-118.jpg'),\n",
       " WindowsPath('data/subsetImage/4-119.jpg'),\n",
       " WindowsPath('data/subsetImage/4-120.jpg'),\n",
       " WindowsPath('data/subsetImage/4-121.jpg'),\n",
       " WindowsPath('data/subsetImage/4-122.jpg'),\n",
       " WindowsPath('data/subsetImage/4-123.jpg'),\n",
       " WindowsPath('data/subsetImage/4-124.jpg'),\n",
       " WindowsPath('data/subsetImage/4-125.jpg'),\n",
       " WindowsPath('data/subsetImage/4-126.jpg'),\n",
       " WindowsPath('data/subsetImage/4-127.jpg'),\n",
       " WindowsPath('data/subsetImage/4-128.jpg'),\n",
       " WindowsPath('data/subsetImage/5-129.jpg'),\n",
       " WindowsPath('data/subsetImage/5-130.jpg'),\n",
       " WindowsPath('data/subsetImage/5-131.jpg'),\n",
       " WindowsPath('data/subsetImage/5-132.jpg'),\n",
       " WindowsPath('data/subsetImage/5-133.jpg'),\n",
       " WindowsPath('data/subsetImage/5-134.jpg'),\n",
       " WindowsPath('data/subsetImage/5-135.jpg'),\n",
       " WindowsPath('data/subsetImage/5-136.jpg'),\n",
       " WindowsPath('data/subsetImage/5-137.jpg'),\n",
       " WindowsPath('data/subsetImage/5-138.jpg'),\n",
       " WindowsPath('data/subsetImage/5-139.jpg'),\n",
       " WindowsPath('data/subsetImage/5-140.jpg'),\n",
       " WindowsPath('data/subsetImage/5-141.jpg'),\n",
       " WindowsPath('data/subsetImage/5-142.jpg'),\n",
       " WindowsPath('data/subsetImage/5-143.jpg'),\n",
       " WindowsPath('data/subsetImage/5-144.jpg'),\n",
       " WindowsPath('data/subsetImage/5-145.jpg'),\n",
       " WindowsPath('data/subsetImage/5-146.jpg'),\n",
       " WindowsPath('data/subsetImage/5-147.jpg'),\n",
       " WindowsPath('data/subsetImage/6-148.jpg'),\n",
       " WindowsPath('data/subsetImage/6-149.jpg'),\n",
       " WindowsPath('data/subsetImage/6-150.jpg'),\n",
       " WindowsPath('data/subsetImage/6-151.jpg'),\n",
       " WindowsPath('data/subsetImage/6-152.jpg'),\n",
       " WindowsPath('data/subsetImage/6-153.jpg'),\n",
       " WindowsPath('data/subsetImage/6-154.jpg'),\n",
       " WindowsPath('data/subsetImage/6-155.jpg'),\n",
       " WindowsPath('data/subsetImage/6-156.jpg'),\n",
       " WindowsPath('data/subsetImage/6-157.jpg'),\n",
       " WindowsPath('data/subsetImage/6-158.jpg'),\n",
       " WindowsPath('data/subsetImage/6-159.jpg'),\n",
       " WindowsPath('data/subsetImage/6-160.jpg'),\n",
       " WindowsPath('data/subsetImage/6-161.jpg'),\n",
       " WindowsPath('data/subsetImage/6-162.jpg'),\n",
       " WindowsPath('data/subsetImage/6-163.jpg'),\n",
       " WindowsPath('data/subsetImage/6-164.jpg'),\n",
       " WindowsPath('data/subsetImage/6-165.jpg'),\n",
       " WindowsPath('data/subsetImage/6-166.jpg'),\n",
       " WindowsPath('data/subsetImage/6-167.jpg'),\n",
       " WindowsPath('data/subsetImage/7-168.jpg'),\n",
       " WindowsPath('data/subsetImage/7-169.jpg'),\n",
       " WindowsPath('data/subsetImage/7-170.jpg'),\n",
       " WindowsPath('data/subsetImage/7-171.jpg'),\n",
       " WindowsPath('data/subsetImage/7-172.jpg'),\n",
       " WindowsPath('data/subsetImage/7-173.jpg'),\n",
       " WindowsPath('data/subsetImage/7-174.jpg'),\n",
       " WindowsPath('data/subsetImage/7-175.jpg'),\n",
       " WindowsPath('data/subsetImage/7-176.jpg'),\n",
       " WindowsPath('data/subsetImage/7-177.jpg'),\n",
       " WindowsPath('data/subsetImage/7-178.jpg'),\n",
       " WindowsPath('data/subsetImage/7-179.jpg'),\n",
       " WindowsPath('data/subsetImage/7-180.jpg'),\n",
       " WindowsPath('data/subsetImage/7-181.jpg'),\n",
       " WindowsPath('data/subsetImage/7-182.jpg'),\n",
       " WindowsPath('data/subsetImage/7-183.jpg'),\n",
       " WindowsPath('data/subsetImage/7-184.jpg'),\n",
       " WindowsPath('data/subsetImage/7-185.jpg'),\n",
       " WindowsPath('data/subsetImage/7-186.jpg'),\n",
       " WindowsPath('data/subsetImage/7-187.jpg'),\n",
       " WindowsPath('data/subsetImage/7-188.jpg'),\n",
       " WindowsPath('data/subsetImage/7-189.jpg'),\n",
       " WindowsPath('data/subsetImage/7-190.jpg'),\n",
       " WindowsPath('data/subsetImage/7-191.jpg'),\n",
       " WindowsPath('data/subsetImage/7-192.jpg'),\n",
       " WindowsPath('data/subsetImage/7-193.jpg'),\n",
       " WindowsPath('data/subsetImage/8-194.jpg'),\n",
       " WindowsPath('data/subsetImage/8-195.jpg'),\n",
       " WindowsPath('data/subsetImage/8-196.jpg'),\n",
       " WindowsPath('data/subsetImage/8-197.jpg'),\n",
       " WindowsPath('data/subsetImage/8-198.jpg'),\n",
       " WindowsPath('data/subsetImage/8-199.jpg'),\n",
       " WindowsPath('data/subsetImage/8-200.jpg'),\n",
       " WindowsPath('data/subsetImage/8-201.jpg'),\n",
       " WindowsPath('data/subsetImage/8-202.jpg'),\n",
       " WindowsPath('data/subsetImage/8-203.jpg'),\n",
       " WindowsPath('data/subsetImage/8-204.jpg'),\n",
       " WindowsPath('data/subsetImage/8-205.jpg'),\n",
       " WindowsPath('data/subsetImage/8-206.jpg'),\n",
       " WindowsPath('data/subsetImage/8-207.jpg'),\n",
       " WindowsPath('data/subsetImage/8-208.jpg'),\n",
       " WindowsPath('data/subsetImage/8-209.jpg'),\n",
       " WindowsPath('data/subsetImage/8-210.jpg'),\n",
       " WindowsPath('data/subsetImage/8-211.jpg'),\n",
       " WindowsPath('data/subsetImage/8-212.jpg'),\n",
       " WindowsPath('data/subsetImage/8-213.jpg'),\n",
       " WindowsPath('data/subsetImage/8-214.jpg'),\n",
       " WindowsPath('data/subsetImage/8-215.jpg'),\n",
       " WindowsPath('data/subsetImage/8-216.jpg'),\n",
       " WindowsPath('data/subsetImage/8-217.jpg'),\n",
       " WindowsPath('data/subsetImage/8-218.jpg'),\n",
       " WindowsPath('data/subsetImage/8-219.jpg'),\n",
       " WindowsPath('data/subsetImage/8-220.jpg'),\n",
       " WindowsPath('data/subsetImage/8-221.jpg'),\n",
       " WindowsPath('data/subsetImage/9-222.jpg'),\n",
       " WindowsPath('data/subsetImage/9-223.jpg'),\n",
       " WindowsPath('data/subsetImage/9-224.jpg'),\n",
       " WindowsPath('data/subsetImage/9-225.jpg'),\n",
       " WindowsPath('data/subsetImage/9-226.jpg'),\n",
       " WindowsPath('data/subsetImage/9-227.jpg'),\n",
       " WindowsPath('data/subsetImage/9-228.jpg'),\n",
       " WindowsPath('data/subsetImage/9-229.jpg'),\n",
       " WindowsPath('data/subsetImage/9-230.jpg'),\n",
       " WindowsPath('data/subsetImage/9-231.jpg'),\n",
       " WindowsPath('data/subsetImage/9-232.jpg'),\n",
       " WindowsPath('data/subsetImage/9-233.jpg'),\n",
       " WindowsPath('data/subsetImage/9-234.jpg'),\n",
       " WindowsPath('data/subsetImage/9-235.jpg'),\n",
       " WindowsPath('data/subsetImage/9-236.jpg'),\n",
       " WindowsPath('data/subsetImage/9-237.jpg')]"
      ]
     },
     "execution_count": 292,
     "metadata": {},
     "output_type": "execute_result"
    }
   ],
   "source": [
    "path.ls()"
   ]
  },
  {
   "cell_type": "code",
   "execution_count": 293,
   "metadata": {
    "ExecuteTime": {
     "end_time": "2020-01-01T09:04:09.005829Z",
     "start_time": "2020-01-01T09:04:09.002837Z"
    },
    "run_control": {
     "marked": false
    }
   },
   "outputs": [],
   "source": [
    "def ret_name(x):return str(x).split('\\\\')[-1][0]"
   ]
  },
  {
   "cell_type": "code",
   "execution_count": 294,
   "metadata": {
    "ExecuteTime": {
     "end_time": "2020-01-01T09:04:09.733257Z",
     "start_time": "2020-01-01T09:04:09.728271Z"
    },
    "run_control": {
     "marked": false
    }
   },
   "outputs": [
    {
     "data": {
      "text/plain": [
       "'W'"
      ]
     },
     "execution_count": 294,
     "metadata": {},
     "output_type": "execute_result"
    }
   ],
   "source": [
    "ret_name(str(\"WindowsPath('data/subsetImage/0-0.jpg')\"))"
   ]
  },
  {
   "cell_type": "code",
   "execution_count": 295,
   "metadata": {
    "ExecuteTime": {
     "end_time": "2020-01-01T09:04:11.154848Z",
     "start_time": "2020-01-01T09:04:10.401862Z"
    },
    "run_control": {
     "marked": false
    }
   },
   "outputs": [],
   "source": [
    "tfms =  get_transforms(do_flip = False, flip_vert=False, max_lighting=0.1, max_zoom=0., max_warp=0.)\n",
    "data2 = (ImageList.from_folder(path) \n",
    "        .split_by_rand_pct()              \n",
    "        .label_from_func(ret_name)                          \n",
    "        .transform(tfms, size=256)\n",
    "        .databunch())          "
   ]
  },
  {
   "cell_type": "code",
   "execution_count": 296,
   "metadata": {
    "ExecuteTime": {
     "end_time": "2020-01-01T09:04:12.074265Z",
     "start_time": "2020-01-01T09:04:12.051326Z"
    }
   },
   "outputs": [],
   "source": [
    "get_transforms??"
   ]
  },
  {
   "cell_type": "code",
   "execution_count": 256,
   "metadata": {
    "ExecuteTime": {
     "end_time": "2020-01-01T08:40:45.451586Z",
     "start_time": "2020-01-01T08:40:45.446599Z"
    },
    "run_control": {
     "marked": false
    }
   },
   "outputs": [
    {
     "data": {
      "text/plain": [
       "(['0', '1', '2', '3', '4', '5', '6', '7', '8', '9'], 10)"
      ]
     },
     "execution_count": 256,
     "metadata": {},
     "output_type": "execute_result"
    }
   ],
   "source": [
    "data2.classes,data.c"
   ]
  },
  {
   "cell_type": "code",
   "execution_count": 297,
   "metadata": {
    "ExecuteTime": {
     "end_time": "2020-01-01T09:04:17.400715Z",
     "start_time": "2020-01-01T09:04:16.461093Z"
    },
    "run_control": {
     "marked": false
    }
   },
   "outputs": [
    {
     "data": {
      "image/png": "[encoded data removed]",
      "text/plain": [
       "<Figure size 504x360 with 4 Axes>"
      ]
     },
     "metadata": {
      "needs_background": "light"
     },
     "output_type": "display_data"
    }
   ],
   "source": [
    "data2.show_batch(rows=2, figsize=(7,5))"
   ]
  },
  {
   "cell_type": "code",
   "execution_count": 258,
   "metadata": {
    "ExecuteTime": {
     "end_time": "2020-01-01T08:41:07.129940Z",
     "start_time": "2020-01-01T08:41:07.107001Z"
    }
   },
   "outputs": [],
   "source": [
    "cnn_learner??"
   ]
  },
  {
   "cell_type": "code",
   "execution_count": null,
   "metadata": {
    "ExecuteTime": {
     "end_time": "2020-01-01T08:52:38.263746Z",
     "start_time": "2020-01-01T08:52:38.247789Z"
    }
   },
   "outputs": [],
   "source": [
    "learn = cnn_learner(data2, models.resnet18)\n",
    "learn.fit_one_cycle(1)"
   ]
  },
  {
   "cell_type": "code",
   "execution_count": 253,
   "metadata": {
    "ExecuteTime": {
     "end_time": "2020-01-01T08:40:21.611126Z",
     "start_time": "2020-01-01T08:36:50.750664Z"
    }
   },
   "outputs": [
    {
     "data": {
      "text/html": [
       "\n",
       "    <div>\n",
       "        <style>\n",
       "            /* Turns off some styling */\n",
       "            progress {\n",
       "                /* gets rid of default border in Firefox and Opera. */\n",
       "                border: none;\n",
       "                /* Needs to be in here for Safari polyfill so background images work as expected. */\n",
       "                background-size: auto;\n",
       "            }\n",
       "            .progress-bar-interrupted, .progress-bar-interrupted::-webkit-progress-bar {\n",
       "                background: #F44336;\n",
       "            }\n",
       "        </style>\n",
       "      <progress value='6' class='' max='10', style='width:300px; height:20px; vertical-align: middle;'></progress>\n",
       "      60.00% [6/10 03:08<02:05]\n",
       "    </div>\n",
       "    \n",
       "<table border=\"1\" class=\"dataframe\">\n",
       "  <thead>\n",
       "    <tr style=\"text-align: left;\">\n",
       "      <th>epoch</th>\n",
       "      <th>train_loss</th>\n",
       "      <th>valid_loss</th>\n",
       "      <th>time</th>\n",
       "    </tr>\n",
       "  </thead>\n",
       "  <tbody>\n",
       "    <tr>\n",
       "      <td>0</td>\n",
       "      <td>3.428101</td>\n",
       "      <td>3.092086</td>\n",
       "      <td>00:31</td>\n",
       "    </tr>\n",
       "    <tr>\n",
       "      <td>1</td>\n",
       "      <td>3.524176</td>\n",
       "      <td>3.074495</td>\n",
       "      <td>00:31</td>\n",
       "    </tr>\n",
       "    <tr>\n",
       "      <td>2</td>\n",
       "      <td>3.464643</td>\n",
       "      <td>3.274200</td>\n",
       "      <td>00:30</td>\n",
       "    </tr>\n",
       "    <tr>\n",
       "      <td>3</td>\n",
       "      <td>3.444487</td>\n",
       "      <td>3.425625</td>\n",
       "      <td>00:30</td>\n",
       "    </tr>\n",
       "    <tr>\n",
       "      <td>4</td>\n",
       "      <td>3.439765</td>\n",
       "      <td>3.589131</td>\n",
       "      <td>00:31</td>\n",
       "    </tr>\n",
       "    <tr>\n",
       "      <td>5</td>\n",
       "      <td>3.397885</td>\n",
       "      <td>3.627527</td>\n",
       "      <td>00:32</td>\n",
       "    </tr>\n",
       "  </tbody>\n",
       "</table><p>\n",
       "\n",
       "    <div>\n",
       "        <style>\n",
       "            /* Turns off some styling */\n",
       "            progress {\n",
       "                /* gets rid of default border in Firefox and Opera. */\n",
       "                border: none;\n",
       "                /* Needs to be in here for Safari polyfill so background images work as expected. */\n",
       "                background-size: auto;\n",
       "            }\n",
       "            .progress-bar-interrupted, .progress-bar-interrupted::-webkit-progress-bar {\n",
       "                background: #F44336;\n",
       "            }\n",
       "        </style>\n",
       "      <progress value='0' class='' max='2', style='width:300px; height:20px; vertical-align: middle;'></progress>\n",
       "      0.00% [0/2 00:00<00:00]\n",
       "    </div>\n",
       "    "
      ],
      "text/plain": [
       "<IPython.core.display.HTML object>"
      ]
     },
     "metadata": {},
     "output_type": "display_data"
    },
    {
     "ename": "KeyboardInterrupt",
     "evalue": "",
     "output_type": "error",
     "traceback": [
      "\u001b[1;31m---------------------------------------------------------------------------\u001b[0m",
      "\u001b[1;31mKeyboardInterrupt\u001b[0m                         Traceback (most recent call last)",
      "\u001b[1;32m<ipython-input-253-184a41e6b7e2>\u001b[0m in \u001b[0;36m<module>\u001b[1;34m\u001b[0m\n\u001b[1;32m----> 1\u001b[1;33m \u001b[0mlearn\u001b[0m\u001b[1;33m.\u001b[0m\u001b[0mfit_one_cycle\u001b[0m\u001b[1;33m(\u001b[0m\u001b[1;36m10\u001b[0m\u001b[1;33m)\u001b[0m\u001b[1;33m\u001b[0m\u001b[1;33m\u001b[0m\u001b[0m\n\u001b[0m",
      "\u001b[1;32m~\\Anaconda3\\lib\\site-packages\\fastai\\train.py\u001b[0m in \u001b[0;36mfit_one_cycle\u001b[1;34m(learn, cyc_len, max_lr, moms, div_factor, pct_start, final_div, wd, callbacks, tot_epochs, start_epoch)\u001b[0m\n\u001b[0;32m     21\u001b[0m     callbacks.append(OneCycleScheduler(learn, max_lr, moms=moms, div_factor=div_factor, pct_start=pct_start,\n\u001b[0;32m     22\u001b[0m                                        final_div=final_div, tot_epochs=tot_epochs, start_epoch=start_epoch))\n\u001b[1;32m---> 23\u001b[1;33m     \u001b[0mlearn\u001b[0m\u001b[1;33m.\u001b[0m\u001b[0mfit\u001b[0m\u001b[1;33m(\u001b[0m\u001b[0mcyc_len\u001b[0m\u001b[1;33m,\u001b[0m \u001b[0mmax_lr\u001b[0m\u001b[1;33m,\u001b[0m \u001b[0mwd\u001b[0m\u001b[1;33m=\u001b[0m\u001b[0mwd\u001b[0m\u001b[1;33m,\u001b[0m \u001b[0mcallbacks\u001b[0m\u001b[1;33m=\u001b[0m\u001b[0mcallbacks\u001b[0m\u001b[1;33m)\u001b[0m\u001b[1;33m\u001b[0m\u001b[1;33m\u001b[0m\u001b[0m\n\u001b[0m\u001b[0;32m     24\u001b[0m \u001b[1;33m\u001b[0m\u001b[0m\n\u001b[0;32m     25\u001b[0m def fit_fc(learn:Learner, tot_epochs:int=1, lr:float=defaults.lr,  moms:Tuple[float,float]=(0.95,0.85), start_pct:float=0.72,\n",
      "\u001b[1;32m~\\Anaconda3\\lib\\site-packages\\fastai\\basic_train.py\u001b[0m in \u001b[0;36mfit\u001b[1;34m(self, epochs, lr, wd, callbacks)\u001b[0m\n\u001b[0;32m    198\u001b[0m         \u001b[1;32melse\u001b[0m\u001b[1;33m:\u001b[0m \u001b[0mself\u001b[0m\u001b[1;33m.\u001b[0m\u001b[0mopt\u001b[0m\u001b[1;33m.\u001b[0m\u001b[0mlr\u001b[0m\u001b[1;33m,\u001b[0m\u001b[0mself\u001b[0m\u001b[1;33m.\u001b[0m\u001b[0mopt\u001b[0m\u001b[1;33m.\u001b[0m\u001b[0mwd\u001b[0m \u001b[1;33m=\u001b[0m \u001b[0mlr\u001b[0m\u001b[1;33m,\u001b[0m\u001b[0mwd\u001b[0m\u001b[1;33m\u001b[0m\u001b[1;33m\u001b[0m\u001b[0m\n\u001b[0;32m    199\u001b[0m         \u001b[0mcallbacks\u001b[0m \u001b[1;33m=\u001b[0m \u001b[1;33m[\u001b[0m\u001b[0mcb\u001b[0m\u001b[1;33m(\u001b[0m\u001b[0mself\u001b[0m\u001b[1;33m)\u001b[0m \u001b[1;32mfor\u001b[0m \u001b[0mcb\u001b[0m \u001b[1;32min\u001b[0m \u001b[0mself\u001b[0m\u001b[1;33m.\u001b[0m\u001b[0mcallback_fns\u001b[0m \u001b[1;33m+\u001b[0m \u001b[0mlistify\u001b[0m\u001b[1;33m(\u001b[0m\u001b[0mdefaults\u001b[0m\u001b[1;33m.\u001b[0m\u001b[0mextra_callback_fns\u001b[0m\u001b[1;33m)\u001b[0m\u001b[1;33m]\u001b[0m \u001b[1;33m+\u001b[0m \u001b[0mlistify\u001b[0m\u001b[1;33m(\u001b[0m\u001b[0mcallbacks\u001b[0m\u001b[1;33m)\u001b[0m\u001b[1;33m\u001b[0m\u001b[1;33m\u001b[0m\u001b[0m\n\u001b[1;32m--> 200\u001b[1;33m         \u001b[0mfit\u001b[0m\u001b[1;33m(\u001b[0m\u001b[0mepochs\u001b[0m\u001b[1;33m,\u001b[0m \u001b[0mself\u001b[0m\u001b[1;33m,\u001b[0m \u001b[0mmetrics\u001b[0m\u001b[1;33m=\u001b[0m\u001b[0mself\u001b[0m\u001b[1;33m.\u001b[0m\u001b[0mmetrics\u001b[0m\u001b[1;33m,\u001b[0m \u001b[0mcallbacks\u001b[0m\u001b[1;33m=\u001b[0m\u001b[0mself\u001b[0m\u001b[1;33m.\u001b[0m\u001b[0mcallbacks\u001b[0m\u001b[1;33m+\u001b[0m\u001b[0mcallbacks\u001b[0m\u001b[1;33m)\u001b[0m\u001b[1;33m\u001b[0m\u001b[1;33m\u001b[0m\u001b[0m\n\u001b[0m\u001b[0;32m    201\u001b[0m \u001b[1;33m\u001b[0m\u001b[0m\n\u001b[0;32m    202\u001b[0m     \u001b[1;32mdef\u001b[0m \u001b[0mcreate_opt\u001b[0m\u001b[1;33m(\u001b[0m\u001b[0mself\u001b[0m\u001b[1;33m,\u001b[0m \u001b[0mlr\u001b[0m\u001b[1;33m:\u001b[0m\u001b[0mFloats\u001b[0m\u001b[1;33m,\u001b[0m \u001b[0mwd\u001b[0m\u001b[1;33m:\u001b[0m\u001b[0mFloats\u001b[0m\u001b[1;33m=\u001b[0m\u001b[1;36m0.\u001b[0m\u001b[1;33m)\u001b[0m\u001b[1;33m->\u001b[0m\u001b[1;32mNone\u001b[0m\u001b[1;33m:\u001b[0m\u001b[1;33m\u001b[0m\u001b[1;33m\u001b[0m\u001b[0m\n",
      "\u001b[1;32m~\\Anaconda3\\lib\\site-packages\\fastai\\basic_train.py\u001b[0m in \u001b[0;36mfit\u001b[1;34m(epochs, learn, callbacks, metrics)\u001b[0m\n\u001b[0;32m     97\u001b[0m             \u001b[0mcb_handler\u001b[0m\u001b[1;33m.\u001b[0m\u001b[0mset_dl\u001b[0m\u001b[1;33m(\u001b[0m\u001b[0mlearn\u001b[0m\u001b[1;33m.\u001b[0m\u001b[0mdata\u001b[0m\u001b[1;33m.\u001b[0m\u001b[0mtrain_dl\u001b[0m\u001b[1;33m)\u001b[0m\u001b[1;33m\u001b[0m\u001b[1;33m\u001b[0m\u001b[0m\n\u001b[0;32m     98\u001b[0m             \u001b[0mcb_handler\u001b[0m\u001b[1;33m.\u001b[0m\u001b[0mon_epoch_begin\u001b[0m\u001b[1;33m(\u001b[0m\u001b[1;33m)\u001b[0m\u001b[1;33m\u001b[0m\u001b[1;33m\u001b[0m\u001b[0m\n\u001b[1;32m---> 99\u001b[1;33m             \u001b[1;32mfor\u001b[0m \u001b[0mxb\u001b[0m\u001b[1;33m,\u001b[0m\u001b[0myb\u001b[0m \u001b[1;32min\u001b[0m \u001b[0mprogress_bar\u001b[0m\u001b[1;33m(\u001b[0m\u001b[0mlearn\u001b[0m\u001b[1;33m.\u001b[0m\u001b[0mdata\u001b[0m\u001b[1;33m.\u001b[0m\u001b[0mtrain_dl\u001b[0m\u001b[1;33m,\u001b[0m \u001b[0mparent\u001b[0m\u001b[1;33m=\u001b[0m\u001b[0mpbar\u001b[0m\u001b[1;33m)\u001b[0m\u001b[1;33m:\u001b[0m\u001b[1;33m\u001b[0m\u001b[1;33m\u001b[0m\u001b[0m\n\u001b[0m\u001b[0;32m    100\u001b[0m                 \u001b[0mxb\u001b[0m\u001b[1;33m,\u001b[0m \u001b[0myb\u001b[0m \u001b[1;33m=\u001b[0m \u001b[0mcb_handler\u001b[0m\u001b[1;33m.\u001b[0m\u001b[0mon_batch_begin\u001b[0m\u001b[1;33m(\u001b[0m\u001b[0mxb\u001b[0m\u001b[1;33m,\u001b[0m \u001b[0myb\u001b[0m\u001b[1;33m)\u001b[0m\u001b[1;33m\u001b[0m\u001b[1;33m\u001b[0m\u001b[0m\n\u001b[0;32m    101\u001b[0m                 \u001b[0mloss\u001b[0m \u001b[1;33m=\u001b[0m \u001b[0mloss_batch\u001b[0m\u001b[1;33m(\u001b[0m\u001b[0mlearn\u001b[0m\u001b[1;33m.\u001b[0m\u001b[0mmodel\u001b[0m\u001b[1;33m,\u001b[0m \u001b[0mxb\u001b[0m\u001b[1;33m,\u001b[0m \u001b[0myb\u001b[0m\u001b[1;33m,\u001b[0m \u001b[0mlearn\u001b[0m\u001b[1;33m.\u001b[0m\u001b[0mloss_func\u001b[0m\u001b[1;33m,\u001b[0m \u001b[0mlearn\u001b[0m\u001b[1;33m.\u001b[0m\u001b[0mopt\u001b[0m\u001b[1;33m,\u001b[0m \u001b[0mcb_handler\u001b[0m\u001b[1;33m)\u001b[0m\u001b[1;33m\u001b[0m\u001b[1;33m\u001b[0m\u001b[0m\n",
      "\u001b[1;32m~\\Anaconda3\\lib\\site-packages\\fastprogress\\fastprogress.py\u001b[0m in \u001b[0;36m__iter__\u001b[1;34m(self)\u001b[0m\n\u001b[0;32m     39\u001b[0m         \u001b[1;32mif\u001b[0m \u001b[0mself\u001b[0m\u001b[1;33m.\u001b[0m\u001b[0mtotal\u001b[0m \u001b[1;33m!=\u001b[0m \u001b[1;36m0\u001b[0m\u001b[1;33m:\u001b[0m \u001b[0mself\u001b[0m\u001b[1;33m.\u001b[0m\u001b[0mupdate\u001b[0m\u001b[1;33m(\u001b[0m\u001b[1;36m0\u001b[0m\u001b[1;33m)\u001b[0m\u001b[1;33m\u001b[0m\u001b[1;33m\u001b[0m\u001b[0m\n\u001b[0;32m     40\u001b[0m         \u001b[1;32mtry\u001b[0m\u001b[1;33m:\u001b[0m\u001b[1;33m\u001b[0m\u001b[1;33m\u001b[0m\u001b[0m\n\u001b[1;32m---> 41\u001b[1;33m             \u001b[1;32mfor\u001b[0m \u001b[0mi\u001b[0m\u001b[1;33m,\u001b[0m\u001b[0mo\u001b[0m \u001b[1;32min\u001b[0m \u001b[0menumerate\u001b[0m\u001b[1;33m(\u001b[0m\u001b[0mself\u001b[0m\u001b[1;33m.\u001b[0m\u001b[0mgen\u001b[0m\u001b[1;33m)\u001b[0m\u001b[1;33m:\u001b[0m\u001b[1;33m\u001b[0m\u001b[1;33m\u001b[0m\u001b[0m\n\u001b[0m\u001b[0;32m     42\u001b[0m                 \u001b[1;32mif\u001b[0m \u001b[0mi\u001b[0m \u001b[1;33m>=\u001b[0m \u001b[0mself\u001b[0m\u001b[1;33m.\u001b[0m\u001b[0mtotal\u001b[0m\u001b[1;33m:\u001b[0m \u001b[1;32mbreak\u001b[0m\u001b[1;33m\u001b[0m\u001b[1;33m\u001b[0m\u001b[0m\n\u001b[0;32m     43\u001b[0m                 \u001b[1;32myield\u001b[0m \u001b[0mo\u001b[0m\u001b[1;33m\u001b[0m\u001b[1;33m\u001b[0m\u001b[0m\n",
      "\u001b[1;32m~\\Anaconda3\\lib\\site-packages\\fastai\\basic_data.py\u001b[0m in \u001b[0;36m__iter__\u001b[1;34m(self)\u001b[0m\n\u001b[0;32m     73\u001b[0m     \u001b[1;32mdef\u001b[0m \u001b[0m__iter__\u001b[0m\u001b[1;33m(\u001b[0m\u001b[0mself\u001b[0m\u001b[1;33m)\u001b[0m\u001b[1;33m:\u001b[0m\u001b[1;33m\u001b[0m\u001b[1;33m\u001b[0m\u001b[0m\n\u001b[0;32m     74\u001b[0m         \u001b[1;34m\"Process and returns items from `DataLoader`.\"\u001b[0m\u001b[1;33m\u001b[0m\u001b[1;33m\u001b[0m\u001b[0m\n\u001b[1;32m---> 75\u001b[1;33m         \u001b[1;32mfor\u001b[0m \u001b[0mb\u001b[0m \u001b[1;32min\u001b[0m \u001b[0mself\u001b[0m\u001b[1;33m.\u001b[0m\u001b[0mdl\u001b[0m\u001b[1;33m:\u001b[0m \u001b[1;32myield\u001b[0m \u001b[0mself\u001b[0m\u001b[1;33m.\u001b[0m\u001b[0mproc_batch\u001b[0m\u001b[1;33m(\u001b[0m\u001b[0mb\u001b[0m\u001b[1;33m)\u001b[0m\u001b[1;33m\u001b[0m\u001b[1;33m\u001b[0m\u001b[0m\n\u001b[0m\u001b[0;32m     76\u001b[0m \u001b[1;33m\u001b[0m\u001b[0m\n\u001b[0;32m     77\u001b[0m     \u001b[1;33m@\u001b[0m\u001b[0mclassmethod\u001b[0m\u001b[1;33m\u001b[0m\u001b[1;33m\u001b[0m\u001b[0m\n",
      "\u001b[1;32m~\\Anaconda3\\lib\\site-packages\\torch\\utils\\data\\dataloader.py\u001b[0m in \u001b[0;36m__iter__\u001b[1;34m(self)\u001b[0m\n\u001b[0;32m    276\u001b[0m             \u001b[1;32mreturn\u001b[0m \u001b[0m_SingleProcessDataLoaderIter\u001b[0m\u001b[1;33m(\u001b[0m\u001b[0mself\u001b[0m\u001b[1;33m)\u001b[0m\u001b[1;33m\u001b[0m\u001b[1;33m\u001b[0m\u001b[0m\n\u001b[0;32m    277\u001b[0m         \u001b[1;32melse\u001b[0m\u001b[1;33m:\u001b[0m\u001b[1;33m\u001b[0m\u001b[1;33m\u001b[0m\u001b[0m\n\u001b[1;32m--> 278\u001b[1;33m             \u001b[1;32mreturn\u001b[0m \u001b[0m_MultiProcessingDataLoaderIter\u001b[0m\u001b[1;33m(\u001b[0m\u001b[0mself\u001b[0m\u001b[1;33m)\u001b[0m\u001b[1;33m\u001b[0m\u001b[1;33m\u001b[0m\u001b[0m\n\u001b[0m\u001b[0;32m    279\u001b[0m \u001b[1;33m\u001b[0m\u001b[0m\n\u001b[0;32m    280\u001b[0m     \u001b[1;33m@\u001b[0m\u001b[0mproperty\u001b[0m\u001b[1;33m\u001b[0m\u001b[1;33m\u001b[0m\u001b[0m\n",
      "\u001b[1;32m~\\Anaconda3\\lib\\site-packages\\torch\\utils\\data\\dataloader.py\u001b[0m in \u001b[0;36m__init__\u001b[1;34m(self, loader)\u001b[0m\n\u001b[0;32m    680\u001b[0m             \u001b[1;31m#     before it starts, and __del__ tries to join but will get:\u001b[0m\u001b[1;33m\u001b[0m\u001b[1;33m\u001b[0m\u001b[1;33m\u001b[0m\u001b[0m\n\u001b[0;32m    681\u001b[0m             \u001b[1;31m#     AssertionError: can only join a started process.\u001b[0m\u001b[1;33m\u001b[0m\u001b[1;33m\u001b[0m\u001b[1;33m\u001b[0m\u001b[0m\n\u001b[1;32m--> 682\u001b[1;33m             \u001b[0mw\u001b[0m\u001b[1;33m.\u001b[0m\u001b[0mstart\u001b[0m\u001b[1;33m(\u001b[0m\u001b[1;33m)\u001b[0m\u001b[1;33m\u001b[0m\u001b[1;33m\u001b[0m\u001b[0m\n\u001b[0m\u001b[0;32m    683\u001b[0m             \u001b[0mself\u001b[0m\u001b[1;33m.\u001b[0m\u001b[0mindex_queues\u001b[0m\u001b[1;33m.\u001b[0m\u001b[0mappend\u001b[0m\u001b[1;33m(\u001b[0m\u001b[0mindex_queue\u001b[0m\u001b[1;33m)\u001b[0m\u001b[1;33m\u001b[0m\u001b[1;33m\u001b[0m\u001b[0m\n\u001b[0;32m    684\u001b[0m             \u001b[0mself\u001b[0m\u001b[1;33m.\u001b[0m\u001b[0mworkers\u001b[0m\u001b[1;33m.\u001b[0m\u001b[0mappend\u001b[0m\u001b[1;33m(\u001b[0m\u001b[0mw\u001b[0m\u001b[1;33m)\u001b[0m\u001b[1;33m\u001b[0m\u001b[1;33m\u001b[0m\u001b[0m\n",
      "\u001b[1;32m~\\Anaconda3\\lib\\multiprocessing\\process.py\u001b[0m in \u001b[0;36mstart\u001b[1;34m(self)\u001b[0m\n\u001b[0;32m    110\u001b[0m                \u001b[1;34m'daemonic processes are not allowed to have children'\u001b[0m\u001b[1;33m\u001b[0m\u001b[1;33m\u001b[0m\u001b[0m\n\u001b[0;32m    111\u001b[0m         \u001b[0m_cleanup\u001b[0m\u001b[1;33m(\u001b[0m\u001b[1;33m)\u001b[0m\u001b[1;33m\u001b[0m\u001b[1;33m\u001b[0m\u001b[0m\n\u001b[1;32m--> 112\u001b[1;33m         \u001b[0mself\u001b[0m\u001b[1;33m.\u001b[0m\u001b[0m_popen\u001b[0m \u001b[1;33m=\u001b[0m \u001b[0mself\u001b[0m\u001b[1;33m.\u001b[0m\u001b[0m_Popen\u001b[0m\u001b[1;33m(\u001b[0m\u001b[0mself\u001b[0m\u001b[1;33m)\u001b[0m\u001b[1;33m\u001b[0m\u001b[1;33m\u001b[0m\u001b[0m\n\u001b[0m\u001b[0;32m    113\u001b[0m         \u001b[0mself\u001b[0m\u001b[1;33m.\u001b[0m\u001b[0m_sentinel\u001b[0m \u001b[1;33m=\u001b[0m \u001b[0mself\u001b[0m\u001b[1;33m.\u001b[0m\u001b[0m_popen\u001b[0m\u001b[1;33m.\u001b[0m\u001b[0msentinel\u001b[0m\u001b[1;33m\u001b[0m\u001b[1;33m\u001b[0m\u001b[0m\n\u001b[0;32m    114\u001b[0m         \u001b[1;31m# Avoid a refcycle if the target function holds an indirect\u001b[0m\u001b[1;33m\u001b[0m\u001b[1;33m\u001b[0m\u001b[1;33m\u001b[0m\u001b[0m\n",
      "\u001b[1;32m~\\Anaconda3\\lib\\multiprocessing\\context.py\u001b[0m in \u001b[0;36m_Popen\u001b[1;34m(process_obj)\u001b[0m\n\u001b[0;32m    221\u001b[0m     \u001b[1;33m@\u001b[0m\u001b[0mstaticmethod\u001b[0m\u001b[1;33m\u001b[0m\u001b[1;33m\u001b[0m\u001b[0m\n\u001b[0;32m    222\u001b[0m     \u001b[1;32mdef\u001b[0m \u001b[0m_Popen\u001b[0m\u001b[1;33m(\u001b[0m\u001b[0mprocess_obj\u001b[0m\u001b[1;33m)\u001b[0m\u001b[1;33m:\u001b[0m\u001b[1;33m\u001b[0m\u001b[1;33m\u001b[0m\u001b[0m\n\u001b[1;32m--> 223\u001b[1;33m         \u001b[1;32mreturn\u001b[0m \u001b[0m_default_context\u001b[0m\u001b[1;33m.\u001b[0m\u001b[0mget_context\u001b[0m\u001b[1;33m(\u001b[0m\u001b[1;33m)\u001b[0m\u001b[1;33m.\u001b[0m\u001b[0mProcess\u001b[0m\u001b[1;33m.\u001b[0m\u001b[0m_Popen\u001b[0m\u001b[1;33m(\u001b[0m\u001b[0mprocess_obj\u001b[0m\u001b[1;33m)\u001b[0m\u001b[1;33m\u001b[0m\u001b[1;33m\u001b[0m\u001b[0m\n\u001b[0m\u001b[0;32m    224\u001b[0m \u001b[1;33m\u001b[0m\u001b[0m\n\u001b[0;32m    225\u001b[0m \u001b[1;32mclass\u001b[0m \u001b[0mDefaultContext\u001b[0m\u001b[1;33m(\u001b[0m\u001b[0mBaseContext\u001b[0m\u001b[1;33m)\u001b[0m\u001b[1;33m:\u001b[0m\u001b[1;33m\u001b[0m\u001b[1;33m\u001b[0m\u001b[0m\n",
      "\u001b[1;32m~\\Anaconda3\\lib\\multiprocessing\\context.py\u001b[0m in \u001b[0;36m_Popen\u001b[1;34m(process_obj)\u001b[0m\n\u001b[0;32m    320\u001b[0m         \u001b[1;32mdef\u001b[0m \u001b[0m_Popen\u001b[0m\u001b[1;33m(\u001b[0m\u001b[0mprocess_obj\u001b[0m\u001b[1;33m)\u001b[0m\u001b[1;33m:\u001b[0m\u001b[1;33m\u001b[0m\u001b[1;33m\u001b[0m\u001b[0m\n\u001b[0;32m    321\u001b[0m             \u001b[1;32mfrom\u001b[0m \u001b[1;33m.\u001b[0m\u001b[0mpopen_spawn_win32\u001b[0m \u001b[1;32mimport\u001b[0m \u001b[0mPopen\u001b[0m\u001b[1;33m\u001b[0m\u001b[1;33m\u001b[0m\u001b[0m\n\u001b[1;32m--> 322\u001b[1;33m             \u001b[1;32mreturn\u001b[0m \u001b[0mPopen\u001b[0m\u001b[1;33m(\u001b[0m\u001b[0mprocess_obj\u001b[0m\u001b[1;33m)\u001b[0m\u001b[1;33m\u001b[0m\u001b[1;33m\u001b[0m\u001b[0m\n\u001b[0m\u001b[0;32m    323\u001b[0m \u001b[1;33m\u001b[0m\u001b[0m\n\u001b[0;32m    324\u001b[0m     \u001b[1;32mclass\u001b[0m \u001b[0mSpawnContext\u001b[0m\u001b[1;33m(\u001b[0m\u001b[0mBaseContext\u001b[0m\u001b[1;33m)\u001b[0m\u001b[1;33m:\u001b[0m\u001b[1;33m\u001b[0m\u001b[1;33m\u001b[0m\u001b[0m\n",
      "\u001b[1;32m~\\Anaconda3\\lib\\multiprocessing\\popen_spawn_win32.py\u001b[0m in \u001b[0;36m__init__\u001b[1;34m(self, process_obj)\u001b[0m\n\u001b[0;32m     87\u001b[0m             \u001b[1;32mtry\u001b[0m\u001b[1;33m:\u001b[0m\u001b[1;33m\u001b[0m\u001b[1;33m\u001b[0m\u001b[0m\n\u001b[0;32m     88\u001b[0m                 \u001b[0mreduction\u001b[0m\u001b[1;33m.\u001b[0m\u001b[0mdump\u001b[0m\u001b[1;33m(\u001b[0m\u001b[0mprep_data\u001b[0m\u001b[1;33m,\u001b[0m \u001b[0mto_child\u001b[0m\u001b[1;33m)\u001b[0m\u001b[1;33m\u001b[0m\u001b[1;33m\u001b[0m\u001b[0m\n\u001b[1;32m---> 89\u001b[1;33m                 \u001b[0mreduction\u001b[0m\u001b[1;33m.\u001b[0m\u001b[0mdump\u001b[0m\u001b[1;33m(\u001b[0m\u001b[0mprocess_obj\u001b[0m\u001b[1;33m,\u001b[0m \u001b[0mto_child\u001b[0m\u001b[1;33m)\u001b[0m\u001b[1;33m\u001b[0m\u001b[1;33m\u001b[0m\u001b[0m\n\u001b[0m\u001b[0;32m     90\u001b[0m             \u001b[1;32mfinally\u001b[0m\u001b[1;33m:\u001b[0m\u001b[1;33m\u001b[0m\u001b[1;33m\u001b[0m\u001b[0m\n\u001b[0;32m     91\u001b[0m                 \u001b[0mset_spawning_popen\u001b[0m\u001b[1;33m(\u001b[0m\u001b[1;32mNone\u001b[0m\u001b[1;33m)\u001b[0m\u001b[1;33m\u001b[0m\u001b[1;33m\u001b[0m\u001b[0m\n",
      "\u001b[1;32m~\\Anaconda3\\lib\\multiprocessing\\reduction.py\u001b[0m in \u001b[0;36mdump\u001b[1;34m(obj, file, protocol)\u001b[0m\n\u001b[0;32m     58\u001b[0m \u001b[1;32mdef\u001b[0m \u001b[0mdump\u001b[0m\u001b[1;33m(\u001b[0m\u001b[0mobj\u001b[0m\u001b[1;33m,\u001b[0m \u001b[0mfile\u001b[0m\u001b[1;33m,\u001b[0m \u001b[0mprotocol\u001b[0m\u001b[1;33m=\u001b[0m\u001b[1;32mNone\u001b[0m\u001b[1;33m)\u001b[0m\u001b[1;33m:\u001b[0m\u001b[1;33m\u001b[0m\u001b[1;33m\u001b[0m\u001b[0m\n\u001b[0;32m     59\u001b[0m     \u001b[1;34m'''Replacement for pickle.dump() using ForkingPickler.'''\u001b[0m\u001b[1;33m\u001b[0m\u001b[1;33m\u001b[0m\u001b[0m\n\u001b[1;32m---> 60\u001b[1;33m     \u001b[0mForkingPickler\u001b[0m\u001b[1;33m(\u001b[0m\u001b[0mfile\u001b[0m\u001b[1;33m,\u001b[0m \u001b[0mprotocol\u001b[0m\u001b[1;33m)\u001b[0m\u001b[1;33m.\u001b[0m\u001b[0mdump\u001b[0m\u001b[1;33m(\u001b[0m\u001b[0mobj\u001b[0m\u001b[1;33m)\u001b[0m\u001b[1;33m\u001b[0m\u001b[1;33m\u001b[0m\u001b[0m\n\u001b[0m\u001b[0;32m     61\u001b[0m \u001b[1;33m\u001b[0m\u001b[0m\n\u001b[0;32m     62\u001b[0m \u001b[1;31m#\u001b[0m\u001b[1;33m\u001b[0m\u001b[1;33m\u001b[0m\u001b[1;33m\u001b[0m\u001b[0m\n",
      "\u001b[1;31mKeyboardInterrupt\u001b[0m: "
     ]
    }
   ],
   "source": [
    "learn.fit_one_cycle(10)"
   ]
  },
  {
   "cell_type": "code",
   "execution_count": null,
   "metadata": {
    "ExecuteTime": {
     "end_time": "2020-01-01T08:40:21.613122Z",
     "start_time": "2020-01-01T08:36:52.412Z"
    }
   },
   "outputs": [],
   "source": [
    "learn.save('stage-1')"
   ]
  },
  {
   "cell_type": "markdown",
   "metadata": {},
   "source": [
    "## Columnar data"
   ]
  },
  {
   "cell_type": "code",
   "execution_count": 298,
   "metadata": {
    "ExecuteTime": {
     "end_time": "2020-01-01T09:04:23.189480Z",
     "start_time": "2020-01-01T09:04:23.187472Z"
    }
   },
   "outputs": [],
   "source": [
    "from fastai.tabular import * "
   ]
  },
  {
   "cell_type": "code",
   "execution_count": 299,
   "metadata": {
    "ExecuteTime": {
     "end_time": "2020-01-01T09:04:23.897073Z",
     "start_time": "2020-01-01T09:04:23.893084Z"
    }
   },
   "outputs": [],
   "source": [
    "val_idx = range(210,238)"
   ]
  },
  {
   "cell_type": "code",
   "execution_count": 313,
   "metadata": {
    "ExecuteTime": {
     "end_time": "2020-01-01T09:06:13.559190Z",
     "start_time": "2020-01-01T09:06:13.553206Z"
    }
   },
   "outputs": [
    {
     "data": {
      "text/plain": [
       "0      0\n",
       "1      0\n",
       "2      0\n",
       "3      0\n",
       "4      0\n",
       "      ..\n",
       "233    9\n",
       "234    9\n",
       "235    9\n",
       "236    9\n",
       "237    9\n",
       "Name: 0, Length: 238, dtype: int8"
      ]
     },
     "execution_count": 313,
     "metadata": {},
     "output_type": "execute_result"
    }
   ],
   "source": [
    "data['0']"
   ]
  },
  {
   "cell_type": "code",
   "execution_count": 320,
   "metadata": {
    "ExecuteTime": {
     "end_time": "2020-01-01T09:09:10.168031Z",
     "start_time": "2020-01-01T09:09:10.163045Z"
    }
   },
   "outputs": [
    {
     "data": {
      "text/plain": [
       "['0', '1', '2', '3', '4', '5', '6', '7', '8', '9']"
      ]
     },
     "execution_count": 320,
     "metadata": {},
     "output_type": "execute_result"
    }
   ],
   "source": [
    "cat_names = list('0123456789');cat_names"
   ]
  },
  {
   "cell_type": "markdown",
   "metadata": {},
   "source": [
    "- try tabular data prediction\n",
    "- https://docs.fast.ai/tabular.html"
   ]
  },
  {
   "cell_type": "code",
   "execution_count": null,
   "metadata": {},
   "outputs": [],
   "source": []
  },
  {
   "cell_type": "code",
   "execution_count": null,
   "metadata": {},
   "outputs": [],
   "source": []
  },
  {
   "cell_type": "code",
   "execution_count": null,
   "metadata": {},
   "outputs": [],
   "source": []
  }
 ],
 "metadata": {
  "file_extension": ".py",
  "kernelspec": {
   "display_name": "Python 3",
   "language": "python",
   "name": "python3"
  },
  "language_info": {
   "codemirror_mode": {
    "name": "ipython",
    "version": 3
   },
   "file_extension": ".py",
   "mimetype": "text/x-python",
   "name": "python",
   "nbconvert_exporter": "python",
   "pygments_lexer": "ipython3",
   "version": "3.7.4"
  },
  "mimetype": "text/x-python",
  "name": "python",
  "npconvert_exporter": "python",
  "pygments_lexer": "ipython3",
  "toc": {
   "base_numbering": 1,
   "nav_menu": {},
   "number_sections": true,
   "sideBar": true,
   "skip_h1_title": false,
   "title_cell": "Table of Contents",
   "title_sidebar": "Contents",
   "toc_cell": true,
   "toc_position": {
    "height": "calc(100% - 180px)",
    "left": "10px",
    "top": "150px",
    "width": "294.875px"
   },
   "toc_section_display": true,
   "toc_window_display": false
  },
  "version": 3
 },
 "nbformat": 4,
 "nbformat_minor": 2
}
