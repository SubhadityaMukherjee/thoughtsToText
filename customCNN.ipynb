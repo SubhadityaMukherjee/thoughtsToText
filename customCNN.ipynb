{
 "cells": [
  {
   "cell_type": "code",
   "execution_count": null,
   "metadata": {
    "ExecuteTime": {
     "end_time": "2020-01-18T10:09:33.658492Z",
     "start_time": "2020-01-18T10:09:33.130866Z"
    }
   },
   "outputs": [],
   "source": [
    "import pandas as pd"
   ]
  },
  {
   "cell_type": "code",
   "execution_count": null,
   "metadata": {
    "ExecuteTime": {
     "end_time": "2020-01-18T10:09:33.716319Z",
     "start_time": "2020-01-18T10:09:33.660469Z"
    }
   },
   "outputs": [],
   "source": [
    "data = pd.read_csv(\"data/subset_csv.csv\",header = 0)\n",
    "data=data.drop(['Unnamed: 0'],axis =1)"
   ]
  },
  {
   "cell_type": "code",
   "execution_count": null,
   "metadata": {
    "ExecuteTime": {
     "end_time": "2020-01-18T10:09:33.723299Z",
     "start_time": "2020-01-18T10:09:33.718313Z"
    }
   },
   "outputs": [],
   "source": [
    "data = data.drop('0.1',axis = 1)"
   ]
  },
  {
   "cell_type": "code",
   "execution_count": null,
   "metadata": {
    "ExecuteTime": {
     "end_time": "2020-01-18T10:09:33.757209Z",
     "start_time": "2020-01-18T10:09:33.725294Z"
    }
   },
   "outputs": [],
   "source": [
    "data = data.fillna(0);data.head()"
   ]
  },
  {
   "cell_type": "code",
   "execution_count": null,
   "metadata": {
    "ExecuteTime": {
     "end_time": "2020-01-18T10:09:33.764190Z",
     "start_time": "2020-01-18T10:09:33.758206Z"
    }
   },
   "outputs": [],
   "source": [
    "data = data[data.columns[:392]]"
   ]
  },
  {
   "cell_type": "code",
   "execution_count": null,
   "metadata": {
    "ExecuteTime": {
     "end_time": "2020-01-18T10:09:33.773166Z",
     "start_time": "2020-01-18T10:09:33.765187Z"
    }
   },
   "outputs": [],
   "source": [
    "data['0']=data['0'].astype('category') \n",
    "\n",
    "data['0'] = data['0'].cat.codes\n",
    "\n",
    "data['0']\n",
    "\n",
    "data['0']=data['0'].astype('category') \n",
    "\n",
    "# cont_names = data.columns.tolist()[1::]\n",
    "\n",
    "# data = data.drop('0',axis=1)"
   ]
  },
  {
   "cell_type": "code",
   "execution_count": null,
   "metadata": {
    "ExecuteTime": {
     "end_time": "2020-01-18T10:09:33.795107Z",
     "start_time": "2020-01-18T10:09:33.774163Z"
    }
   },
   "outputs": [],
   "source": [
    "data.head()"
   ]
  },
  {
   "cell_type": "code",
   "execution_count": null,
   "metadata": {
    "ExecuteTime": {
     "end_time": "2020-01-18T10:09:33.800093Z",
     "start_time": "2020-01-18T10:09:33.796104Z"
    }
   },
   "outputs": [],
   "source": [
    "target = data.pop('0')"
   ]
  },
  {
   "cell_type": "code",
   "execution_count": null,
   "metadata": {
    "ExecuteTime": {
     "end_time": "2020-01-18T10:09:35.714620Z",
     "start_time": "2020-01-18T10:09:33.802097Z"
    }
   },
   "outputs": [],
   "source": [
    "import tensorflow as tf"
   ]
  },
  {
   "cell_type": "code",
   "execution_count": null,
   "metadata": {
    "ExecuteTime": {
     "end_time": "2020-01-18T10:09:36.502488Z",
     "start_time": "2020-01-18T10:09:35.715595Z"
    }
   },
   "outputs": [],
   "source": [
    "dataset = tf.data.Dataset.from_tensor_slices((data.values, target.values))"
   ]
  },
  {
   "cell_type": "code",
   "execution_count": null,
   "metadata": {
    "ExecuteTime": {
     "end_time": "2020-01-18T10:09:36.538393Z",
     "start_time": "2020-01-18T10:09:36.503487Z"
    }
   },
   "outputs": [],
   "source": [
    "for feat, targ in dataset.take(5):\n",
    "  print ('Features: {}, Target: {}'.format(feat, targ))"
   ]
  },
  {
   "cell_type": "code",
   "execution_count": null,
   "metadata": {
    "ExecuteTime": {
     "end_time": "2020-01-18T10:09:36.544396Z",
     "start_time": "2020-01-18T10:09:36.539390Z"
    }
   },
   "outputs": [],
   "source": [
    "train_dataset = dataset.shuffle(len(data))"
   ]
  },
  {
   "cell_type": "code",
   "execution_count": null,
   "metadata": {
    "ExecuteTime": {
     "end_time": "2020-01-18T10:09:36.550361Z",
     "start_time": "2020-01-18T10:09:36.545374Z"
    }
   },
   "outputs": [],
   "source": [
    "train_dataset"
   ]
  },
  {
   "cell_type": "code",
   "execution_count": null,
   "metadata": {
    "ExecuteTime": {
     "end_time": "2020-01-18T10:09:36.574297Z",
     "start_time": "2020-01-18T10:09:36.551359Z"
    }
   },
   "outputs": [],
   "source": [
    "tf.keras.backend.set_floatx('float64')"
   ]
  },
  {
   "cell_type": "code",
   "execution_count": 84,
   "metadata": {
    "ExecuteTime": {
     "end_time": "2020-01-18T10:21:54.484856Z",
     "start_time": "2020-01-18T10:21:54.479869Z"
    },
    "run_control": {
     "marked": true
    }
   },
   "outputs": [],
   "source": [
    "def get_compiled_model():\n",
    "\n",
    "    model = tf.keras.Sequential([\n",
    "        tf.keras.layers.Dense(10, activation='relu'),\n",
    "        tf.keras.layers.Dense(10, activation='relu'),\n",
    "        tf.keras.layers.Dense(1, activation='sigmoid')\n",
    "    ])\n",
    "    model.compile(optimizer='adam',\n",
    "                  loss='categorical_crossentropy',\n",
    "                  metrics=['accuracy'])\n",
    "    return model"
   ]
  },
  {
   "cell_type": "code",
   "execution_count": 85,
   "metadata": {
    "ExecuteTime": {
     "end_time": "2020-01-18T10:21:54.508310Z",
     "start_time": "2020-01-18T10:21:54.502326Z"
    },
    "run_control": {
     "marked": true
    }
   },
   "outputs": [],
   "source": [
    "model = get_compiled_model()"
   ]
  },
  {
   "cell_type": "code",
   "execution_count": 86,
   "metadata": {
    "ExecuteTime": {
     "end_time": "2020-01-18T10:22:00.469675Z",
     "start_time": "2020-01-18T10:21:54.514295Z"
    },
    "run_control": {
     "marked": true
    },
    "scrolled": true
   },
   "outputs": [
    {
     "name": "stdout",
     "output_type": "stream",
     "text": [
      "Epoch 1/10\n",
      "238/238 [==============================] - 1s 6ms/step - loss: 4.3697e-07 - accuracy: 0.1004\n",
      "Epoch 2/10\n",
      "238/238 [==============================] - 0s 2ms/step - loss: 4.3881e-07 - accuracy: 0.1004\n",
      "Epoch 3/10\n",
      "238/238 [==============================] - 0s 2ms/step - loss: 4.3797e-07 - accuracy: 0.1004\n",
      "Epoch 4/10\n",
      "238/238 [==============================] - 0s 2ms/step - loss: 4.3755e-07 - accuracy: 0.1004\n",
      "Epoch 5/10\n",
      "238/238 [==============================] - 1s 2ms/step - loss: 4.3587e-07 - accuracy: 0.1004\n",
      "Epoch 6/10\n",
      "238/238 [==============================] - 0s 2ms/step - loss: 4.3713e-07 - accuracy: 0.1004\n",
      "Epoch 7/10\n",
      "238/238 [==============================] - 0s 2ms/step - loss: 4.3545e-07 - accuracy: 0.1004\n",
      "Epoch 8/10\n",
      "238/238 [==============================] - 0s 2ms/step - loss: 4.3545e-07 - accuracy: 0.1004\n",
      "Epoch 9/10\n",
      "238/238 [==============================] - 1s 2ms/step - loss: 4.3797e-07 - accuracy: 0.1004\n",
      "Epoch 10/10\n",
      "238/238 [==============================] - 1s 2ms/step - loss: 4.3713e-07 - accuracy: 0.1004\n"
     ]
    },
    {
     "data": {
      "text/plain": [
       "<tensorflow.python.keras.callbacks.History at 0x27585660ac8>"
      ]
     },
     "execution_count": 86,
     "metadata": {},
     "output_type": "execute_result"
    }
   ],
   "source": [
    "model.fit(train_dataset, epochs=3)"
   ]
  },
  {
   "cell_type": "code",
   "execution_count": null,
   "metadata": {},
   "outputs": [],
   "source": []
  }
 ],
 "metadata": {
  "kernelspec": {
   "display_name": "Python 3",
   "language": "python",
   "name": "python3"
  },
  "language_info": {
   "codemirror_mode": {
    "name": "ipython",
    "version": 3
   },
   "file_extension": ".py",
   "mimetype": "text/x-python",
   "name": "python",
   "nbconvert_exporter": "python",
   "pygments_lexer": "ipython3",
   "version": "3.7.6"
  },
  "toc": {
   "base_numbering": 1,
   "nav_menu": {},
   "number_sections": true,
   "sideBar": true,
   "skip_h1_title": false,
   "title_cell": "Table of Contents",
   "title_sidebar": "Contents",
   "toc_cell": false,
   "toc_position": {},
   "toc_section_display": true,
   "toc_window_display": false
  }
 },
 "nbformat": 4,
 "nbformat_minor": 2
}
